{
 "cells": [
  {
   "cell_type": "code",
   "execution_count": 1,
   "metadata": {},
   "outputs": [],
   "source": [
    "from dbquaest import exam"
   ]
  },
  {
   "cell_type": "code",
   "execution_count": 2,
   "metadata": {},
   "outputs": [
    {
     "ename": "OperationalError",
     "evalue": "no such table: student",
     "output_type": "error",
     "traceback": [
      "\u001b[0;31m---------------------------------------------------------------------------\u001b[0m",
      "\u001b[0;31mOperationalError\u001b[0m                          Traceback (most recent call last)",
      "\u001b[1;32m/home/flaviano/Documentos/GitHub/DBQuaest/src/tests/check_student.ipynb Cell 2\u001b[0m in \u001b[0;36m<cell line: 7>\u001b[0;34m()\u001b[0m\n\u001b[1;32m      <a href='vscode-notebook-cell:/home/flaviano/Documentos/GitHub/DBQuaest/src/tests/check_student.ipynb#ch0000001?line=1'>2</a>\u001b[0m classe \u001b[39m=\u001b[39m [\n\u001b[1;32m      <a href='vscode-notebook-cell:/home/flaviano/Documentos/GitHub/DBQuaest/src/tests/check_student.ipynb#ch0000001?line=2'>3</a>\u001b[0m     {\u001b[39m'\u001b[39m\u001b[39mname\u001b[39m\u001b[39m'\u001b[39m: \u001b[39m'\u001b[39m\u001b[39mFlaviano - fake\u001b[39m\u001b[39m'\u001b[39m, \u001b[39m'\u001b[39m\u001b[39memail\u001b[39m\u001b[39m'\u001b[39m: \u001b[39m'\u001b[39m\u001b[39memail@gmail.com\u001b[39m\u001b[39m'\u001b[39m, \u001b[39m'\u001b[39m\u001b[39mtelephone\u001b[39m\u001b[39m'\u001b[39m: \u001b[39m'\u001b[39m\u001b[39m1298253-7760\u001b[39m\u001b[39m'\u001b[39m},\n\u001b[1;32m      <a href='vscode-notebook-cell:/home/flaviano/Documentos/GitHub/DBQuaest/src/tests/check_student.ipynb#ch0000001?line=3'>4</a>\u001b[0m     {\u001b[39m'\u001b[39m\u001b[39mname\u001b[39m\u001b[39m'\u001b[39m: \u001b[39m'\u001b[39m\u001b[39mFlaviano W. Fernandes\u001b[39m\u001b[39m'\u001b[39m, \u001b[39m'\u001b[39m\u001b[39memail\u001b[39m\u001b[39m'\u001b[39m: \u001b[39m'\u001b[39m\u001b[39mflavianowilliams@gmail.com\u001b[39m\u001b[39m'\u001b[39m, \u001b[39m'\u001b[39m\u001b[39mtelephone\u001b[39m\u001b[39m'\u001b[39m: \u001b[39m'\u001b[39m\u001b[39m1298253-7760\u001b[39m\u001b[39m'\u001b[39m},\n\u001b[1;32m      <a href='vscode-notebook-cell:/home/flaviano/Documentos/GitHub/DBQuaest/src/tests/check_student.ipynb#ch0000001?line=4'>5</a>\u001b[0m     {\u001b[39m'\u001b[39m\u001b[39mname\u001b[39m\u001b[39m'\u001b[39m: \u001b[39m'\u001b[39m\u001b[39mFlaviano - IFPR\u001b[39m\u001b[39m'\u001b[39m, \u001b[39m'\u001b[39m\u001b[39memail\u001b[39m\u001b[39m'\u001b[39m: \u001b[39m'\u001b[39m\u001b[39mflaviano.fernandes@ifpr.edu.br\u001b[39m\u001b[39m'\u001b[39m, \u001b[39m'\u001b[39m\u001b[39mtelephone\u001b[39m\u001b[39m'\u001b[39m: \u001b[39m'\u001b[39m\u001b[39m1298253-7760\u001b[39m\u001b[39m'\u001b[39m}\n\u001b[1;32m      <a href='vscode-notebook-cell:/home/flaviano/Documentos/GitHub/DBQuaest/src/tests/check_student.ipynb#ch0000001?line=5'>6</a>\u001b[0m ]\n\u001b[1;32m      <a href='vscode-notebook-cell:/home/flaviano/Documentos/GitHub/DBQuaest/src/tests/check_student.ipynb#ch0000001?line=6'>7</a>\u001b[0m \u001b[39mfor\u001b[39;00m aluno \u001b[39min\u001b[39;00m classe:\n\u001b[0;32m----> <a href='vscode-notebook-cell:/home/flaviano/Documentos/GitHub/DBQuaest/src/tests/check_student.ipynb#ch0000001?line=7'>8</a>\u001b[0m     estudante\u001b[39m.\u001b[39mcreate(aluno)\n",
      "File \u001b[0;32m~/Documentos/GitHub/DBQuaest/src/dbquaest/exam.py:64\u001b[0m, in \u001b[0;36mStudent.create\u001b[0;34m(self, std)\u001b[0m\n\u001b[1;32m     60\u001b[0m \u001b[39mdef\u001b[39;00m \u001b[39mcreate\u001b[39m(\u001b[39mself\u001b[39m, std):\n\u001b[1;32m     62\u001b[0m     cur \u001b[39m=\u001b[39m \u001b[39mself\u001b[39m\u001b[39m.\u001b[39mcon\u001b[39m.\u001b[39mcursor()\n\u001b[0;32m---> 64\u001b[0m     res \u001b[39m=\u001b[39m cur\u001b[39m.\u001b[39;49mexecute(\u001b[39mf\u001b[39;49m\u001b[39m\"\"\"\u001b[39;49m\n\u001b[1;32m     65\u001b[0m \u001b[39m        SELECT ROWID FROM student\u001b[39;49m\n\u001b[1;32m     66\u001b[0m \u001b[39m    \u001b[39;49m\u001b[39m\"\"\"\u001b[39;49m)\n\u001b[1;32m     68\u001b[0m     model_list \u001b[39m=\u001b[39m res\u001b[39m.\u001b[39mfetchall()\n\u001b[1;32m     69\u001b[0m     register \u001b[39m=\u001b[39m \u001b[39mstr\u001b[39m(\u001b[39mlen\u001b[39m(model_list)\u001b[39m+\u001b[39m\u001b[39m1\u001b[39m)\n",
      "\u001b[0;31mOperationalError\u001b[0m: no such table: student"
     ]
    }
   ],
   "source": [
    "estudante = exam.Student()\n",
    "classe = [\n",
    "    {'name': 'Flaviano - fake', 'email': 'email@gmail.com', 'telephone': '1298253-7760'},\n",
    "    {'name': 'Flaviano W. Fernandes', 'email': 'flavianowilliams@gmail.com', 'telephone': '1298253-7760'},\n",
    "    {'name': 'Flaviano - IFPR', 'email': 'flaviano.fernandes@ifpr.edu.br', 'telephone': '1298253-7760'}\n",
    "]\n",
    "for aluno in classe:\n",
    "    estudante.create(aluno)"
   ]
  },
  {
   "cell_type": "code",
   "execution_count": null,
   "metadata": {},
   "outputs": [],
   "source": [
    "estudante.save()"
   ]
  }
 ],
 "metadata": {
  "kernelspec": {
   "display_name": "Python 3.10.4 64-bit",
   "language": "python",
   "name": "python3"
  },
  "language_info": {
   "codemirror_mode": {
    "name": "ipython",
    "version": 3
   },
   "file_extension": ".py",
   "mimetype": "text/x-python",
   "name": "python",
   "nbconvert_exporter": "python",
   "pygments_lexer": "ipython3",
   "version": "3.10.4"
  },
  "orig_nbformat": 4,
  "vscode": {
   "interpreter": {
    "hash": "dc8624a8663fda2c7f3128723e4f29e02e9ab974538e868f7593503bd614b5cf"
   }
  }
 },
 "nbformat": 4,
 "nbformat_minor": 2
}
