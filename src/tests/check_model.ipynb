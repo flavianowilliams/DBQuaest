{
 "cells": [
  {
   "cell_type": "code",
   "execution_count": 1,
   "metadata": {},
   "outputs": [],
   "source": [
    "from dbquaest import exam"
   ]
  },
  {
   "cell_type": "code",
   "execution_count": 2,
   "metadata": {},
   "outputs": [],
   "source": [
    "!rm dbquaest.sqlite3\n",
    "exam.make_database()\n",
    "modelo = exam.Model()"
   ]
  },
  {
   "cell_type": "code",
   "execution_count": 3,
   "metadata": {},
   "outputs": [],
   "source": [
    "questoes = [('OQPWD001', 50), ('OQPWD002', 50)]\n",
    "modelo.create('Prova bimestral', 'LQ2N (2B), 31 de outubro de 2022', questoes)"
   ]
  }
 ],
 "metadata": {
  "kernelspec": {
   "display_name": "Python 3.10.4 64-bit",
   "language": "python",
   "name": "python3"
  },
  "language_info": {
   "codemirror_mode": {
    "name": "ipython",
    "version": 3
   },
   "file_extension": ".py",
   "mimetype": "text/x-python",
   "name": "python",
   "nbconvert_exporter": "python",
   "pygments_lexer": "ipython3",
   "version": "3.10.4"
  },
  "orig_nbformat": 4,
  "vscode": {
   "interpreter": {
    "hash": "dc8624a8663fda2c7f3128723e4f29e02e9ab974538e868f7593503bd614b5cf"
   }
  }
 },
 "nbformat": 4,
 "nbformat_minor": 2
}
