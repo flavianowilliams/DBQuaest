{
 "cells": [
  {
   "cell_type": "code",
   "execution_count": 1,
   "metadata": {},
   "outputs": [],
   "source": [
    "from dbquaest import make_test"
   ]
  },
  {
   "cell_type": "code",
   "execution_count": 2,
   "metadata": {},
   "outputs": [],
   "source": [
    "exame = make_test.Test(1, 2)"
   ]
  },
  {
   "cell_type": "code",
   "execution_count": 3,
   "metadata": {},
   "outputs": [
    {
     "data": {
      "text/plain": [
       "[[{'text': 'Considere uma partícula de massa    8.46 kg e velocidade    8.59 m/s. Determine a sua energia cinética.',\n",
       "   'alternative': ['117.84 J',\n",
       "    '167.27 J',\n",
       "    '17.71 J',\n",
       "    '257.2 J',\n",
       "    '273.4 J',\n",
       "    '289.92 J',\n",
       "    '311.86 J',\n",
       "    '5.12 J',\n",
       "    '611.59 J',\n",
       "    '9.99 J']},\n",
       "  {'text': 'Considere uma partícula de massa    9.13 kg e velocidade    1.01 m/s. Determine a sua energia cinética.',\n",
       "   'alternative': ['155.18 J',\n",
       "    '195.43 J',\n",
       "    '206.04 J',\n",
       "    '210.3 J',\n",
       "    '221.91 J',\n",
       "    '4.69 J',\n",
       "    '455.88 J',\n",
       "    '60.71 J',\n",
       "    '88.19 J',\n",
       "    '88.49 J']}]]"
      ]
     },
     "execution_count": 3,
     "metadata": {},
     "output_type": "execute_result"
    }
   ],
   "source": [
    "exame.addQuestion(50, 'MWE001')"
   ]
  },
  {
   "cell_type": "code",
   "execution_count": 4,
   "metadata": {},
   "outputs": [
    {
     "data": {
      "text/plain": [
       "[[{'text': 'Considere uma partícula de massa    8.46 kg e velocidade    8.59 m/s. Determine a sua energia cinética.',\n",
       "   'alternative': ['117.84 J',\n",
       "    '167.27 J',\n",
       "    '17.71 J',\n",
       "    '257.2 J',\n",
       "    '273.4 J',\n",
       "    '289.92 J',\n",
       "    '311.86 J',\n",
       "    '5.12 J',\n",
       "    '611.59 J',\n",
       "    '9.99 J']},\n",
       "  {'text': 'Considere uma partícula de massa    9.13 kg e velocidade    1.01 m/s. Determine a sua energia cinética.',\n",
       "   'alternative': ['155.18 J',\n",
       "    '195.43 J',\n",
       "    '206.04 J',\n",
       "    '210.3 J',\n",
       "    '221.91 J',\n",
       "    '4.69 J',\n",
       "    '455.88 J',\n",
       "    '60.71 J',\n",
       "    '88.19 J',\n",
       "    '88.49 J']}],\n",
       " [{'text': 'Durante sua trajetória uma partícula realizou um trabalho de   -9.21 J. Qual foi a variação da sua energia cinética?',\n",
       "   'alternative': ['-2.41 J',\n",
       "    '-4.69 J',\n",
       "    '-6.87 J',\n",
       "    '-9.21 J',\n",
       "    '-9.84 J',\n",
       "    '0.45 J',\n",
       "    '4.76 J',\n",
       "    '8.25 J',\n",
       "    '8.88 J',\n",
       "    '9.01 J']},\n",
       "  {'text': 'Durante sua trajetória uma partícula realizou um trabalho de    3.78 J. Qual foi a variação da sua energia cinética?',\n",
       "   'alternative': ['-1.76 J',\n",
       "    '-9.06 J',\n",
       "    '-9.43 J',\n",
       "    '-9.59 J',\n",
       "    '3.31 J',\n",
       "    '3.78 J',\n",
       "    '5.3 J',\n",
       "    '5.72 J',\n",
       "    '6.49 J',\n",
       "    '6.83 J']}]]"
      ]
     },
     "execution_count": 4,
     "metadata": {},
     "output_type": "execute_result"
    }
   ],
   "source": [
    "exame.addQuestion(50, 'MWE002')"
   ]
  },
  {
   "cell_type": "code",
   "execution_count": 5,
   "metadata": {},
   "outputs": [
    {
     "name": "stdout",
     "output_type": "stream",
     "text": [
      "This is pdfTeX, Version 3.141592653-2.6-1.40.22 (TeX Live 2021/NixOS.org) (preloaded format=pdflatex)\n",
      " restricted \\write18 enabled.\n",
      "entering extended mode\n",
      "(./main.tex\n",
      "LaTeX2e <2021-11-15> patch level 1\n",
      "L3 programming layer <2022-02-24>\n",
      "(/nix/store/3zchnz1k9cyanrqvas3m31aic9y9wbw3-texlive-combined-full-2021-final/s\n",
      "hare/texmf/tex/latex/exam/exam.cls\n",
      "Document Class: exam 2021/02/26 Version 2.7 by Philip Hirschhorn\n",
      "\n",
      "(/nix/store/3zchnz1k9cyanrqvas3m31aic9y9wbw3-texlive-combined-full-2021-final/s\n",
      "hare/texmf/tex/latex/base/ifthen.sty)\n",
      "(/nix/store/3zchnz1k9cyanrqvas3m31aic9y9wbw3-texlive-combined-full-2021-final/s\n",
      "hare/texmf/tex/latex/base/article.cls\n",
      "Document Class: article 2021/10/04 v1.4n Standard LaTeX document class\n",
      "\n",
      "(/nix/store/3zchnz1k9cyanrqvas3m31aic9y9wbw3-texlive-combined-full-2021-final/s\n",
      "hare/texmf/tex/latex/base/size10.clo)))\n",
      "(/nix/store/3zchnz1k9cyanrqvas3m31aic9y9wbw3-texlive-combined-full-2021-final/s\n",
      "hare/texmf/tex/latex/base/inputenc.sty)\n",
      "(/nix/store/3zchnz1k9cyanrqvas3m31aic9y9wbw3-texlive-combined-full-2021-final/s\n",
      "hare/texmf/tex/generic/babel/babel.sty\n",
      "(/nix/store/3zchnz1k9cyanrqvas3m31aic9y9wbw3-texlive-combined-full-2021-final/s\n",
      "hare/texmf/tex/generic/babel/txtbabel.def)\n",
      "(/nix/store/3zchnz1k9cyanrqvas3m31aic9y9wbw3-texlive-combined-full-2021-final/s\n",
      "hare/texmf/tex/generic/babel-portuges/portuguese.ldf))\n",
      "(/nix/store/3zchnz1k9cyanrqvas3m31aic9y9wbw3-texlive-combined-full-2021-final/s\n",
      "hare/texmf/tex/latex/l3backend/l3backend-pdftex.def)\n",
      "No file main.aux.\n",
      "\n",
      "Underfull \\hbox (badness 10000) in paragraph at lines 17--19\n",
      "\\OT1/cmr/m/n/10 cin^^Setica.\n",
      "\n",
      "Underfull \\hbox (badness 10000) in paragraph at lines 17--19\n",
      "\n",
      "\n",
      "Underfull \\hbox (badness 10000) in paragraph at lines 17--19\n",
      "\n",
      "\n",
      "Underfull \\hbox (badness 10000) in paragraph at lines 22--24\n",
      "\\OT1/cmr/m/n/10 sua ener-gia cin^^Setica?\n",
      "\n",
      "Underfull \\hbox (badness 10000) in paragraph at lines 22--24\n",
      "\n",
      "\n",
      "Underfull \\hbox (badness 10000) in paragraph at lines 22--24\n",
      "\n",
      "[1{/nix/store/3zchnz1k9cyanrqvas3m31aic9y9wbw3-texlive-combined-full-2021-final\n",
      "/share/texmf-var/fonts/map/pdftex/updmap/pdftex.map}]\n",
      "Underfull \\hbox (badness 10000) in paragraph at lines 37--39\n",
      "\\OT1/cmr/m/n/10 cin^^Setica.\n",
      "\n",
      "Underfull \\hbox (badness 10000) in paragraph at lines 37--39\n",
      "\n",
      "\n",
      "Underfull \\hbox (badness 10000) in paragraph at lines 37--39\n",
      "\n",
      "\n",
      "Underfull \\hbox (badness 10000) in paragraph at lines 42--44\n",
      "\\OT1/cmr/m/n/10 sua ener-gia cin^^Setica?\n",
      "\n",
      "Underfull \\hbox (badness 10000) in paragraph at lines 42--44\n",
      "\n",
      "\n",
      "Underfull \\hbox (badness 10000) in paragraph at lines 42--44\n",
      "\n",
      "[2]\n",
      "This exam contains 4 questions with 0 parts, 0 subparts, and 0 subsubparts.\n",
      "This exam has a total of 100 points.\n",
      "This exam has a total of 0 bonus points.\n",
      "\n",
      "Class exam Warning: Point totals have changed. Rerun to get point totals right.\n",
      "\n",
      "\n",
      "(./main.aux)\n",
      "\n",
      "LaTeX Warning: Label(s) may have changed. Rerun to get cross-references right.\n",
      "\n",
      " )\n",
      "(see the transcript file for additional information)</nix/store/3zchnz1k9cyanrq\n",
      "vas3m31aic9y9wbw3-texlive-combined-full-2021-final/share/texmf/fonts/type1/publ\n",
      "ic/amsfonts/cm/cmbx12.pfb></nix/store/3zchnz1k9cyanrqvas3m31aic9y9wbw3-texlive-\n",
      "combined-full-2021-final/share/texmf/fonts/type1/public/amsfonts/cm/cmr10.pfb>\n",
      "Output written on main.pdf (2 pages, 32923 bytes).\n",
      "Transcript written on main.log.\n"
     ]
    }
   ],
   "source": [
    "exame.setPDF()"
   ]
  }
 ],
 "metadata": {
  "kernelspec": {
   "display_name": "Python 3.10.4 64-bit",
   "language": "python",
   "name": "python3"
  },
  "language_info": {
   "codemirror_mode": {
    "name": "ipython",
    "version": 3
   },
   "file_extension": ".py",
   "mimetype": "text/x-python",
   "name": "python",
   "nbconvert_exporter": "python",
   "pygments_lexer": "ipython3",
   "version": "3.10.4"
  },
  "orig_nbformat": 4,
  "vscode": {
   "interpreter": {
    "hash": "7808a3bb7ad42e5121cf53d9262afa4602c7ae7066cc0eaba1d0793744cb24e8"
   }
  }
 },
 "nbformat": 4,
 "nbformat_minor": 2
}
