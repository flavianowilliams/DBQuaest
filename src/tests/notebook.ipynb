{
 "cells": [
  {
   "cell_type": "code",
   "execution_count": 6,
   "metadata": {},
   "outputs": [],
   "source": [
    "from dbquaest import make_test"
   ]
  },
  {
   "cell_type": "code",
   "execution_count": 7,
   "metadata": {},
   "outputs": [],
   "source": [
    "exame = make_test.Test(1, 2)"
   ]
  },
  {
   "cell_type": "code",
   "execution_count": 8,
   "metadata": {},
   "outputs": [
    {
     "data": {
      "text/plain": [
       "[{'text': '   6.37',\n",
       "  'alternative': ['1.12',\n",
       "   '2.87',\n",
       "   '6.06',\n",
       "   '6.14',\n",
       "   '6.37',\n",
       "   '7.38',\n",
       "   '8.33',\n",
       "   '9.34',\n",
       "   '9.67',\n",
       "   '9.97']},\n",
       " {'text': '   2.64',\n",
       "  'alternative': ['1.97',\n",
       "   '2.64',\n",
       "   '4.14',\n",
       "   '4.23',\n",
       "   '6.39',\n",
       "   '6.78',\n",
       "   '7.67',\n",
       "   '8.67',\n",
       "   '8.94',\n",
       "   '9.55']}]"
      ]
     },
     "execution_count": 8,
     "metadata": {},
     "output_type": "execute_result"
    }
   ],
   "source": [
    "exame.addQuestion('MWE002')"
   ]
  },
  {
   "cell_type": "code",
   "execution_count": 9,
   "metadata": {},
   "outputs": [
    {
     "data": {
      "text/plain": [
       "[{'text': '   6.37',\n",
       "  'alternative': ['1.12',\n",
       "   '2.87',\n",
       "   '6.06',\n",
       "   '6.14',\n",
       "   '6.37',\n",
       "   '7.38',\n",
       "   '8.33',\n",
       "   '9.34',\n",
       "   '9.67',\n",
       "   '9.97']},\n",
       " {'text': '   2.64',\n",
       "  'alternative': ['1.97',\n",
       "   '2.64',\n",
       "   '4.14',\n",
       "   '4.23',\n",
       "   '6.39',\n",
       "   '6.78',\n",
       "   '7.67',\n",
       "   '8.67',\n",
       "   '8.94',\n",
       "   '9.55']},\n",
       " {'text': 'Considere uma partícula de massa    7.35 kg e velocidade    5.00 m/s. Determine a sua energia cinética.',\n",
       "  'alternative': ['22.87',\n",
       "   '42.38',\n",
       "   '83.99',\n",
       "   '91.8',\n",
       "   '91.93',\n",
       "   '99.22',\n",
       "   '225.7',\n",
       "   '327.42',\n",
       "   '422.2',\n",
       "   '915.09']},\n",
       " {'text': 'Considere uma partícula de massa    5.53 kg e velocidade    3.83 m/s. Determine a sua energia cinética.',\n",
       "  'alternative': ['26.04',\n",
       "   '29.0',\n",
       "   '40.57',\n",
       "   '92.33',\n",
       "   '177.21',\n",
       "   '188.73',\n",
       "   '449.22',\n",
       "   '668.68',\n",
       "   '782.34',\n",
       "   '831.25']}]"
      ]
     },
     "execution_count": 9,
     "metadata": {},
     "output_type": "execute_result"
    }
   ],
   "source": [
    "exame.addQuestion('MWE001')"
   ]
  },
  {
   "cell_type": "code",
   "execution_count": 10,
   "metadata": {},
   "outputs": [
    {
     "name": "stdout",
     "output_type": "stream",
     "text": [
      "This is pdfTeX, Version 3.141592653-2.6-1.40.22 (TeX Live 2021/NixOS.org) (preloaded format=pdflatex)\n",
      " restricted \\write18 enabled.\n",
      "entering extended mode\n",
      "(./main.tex\n",
      "LaTeX2e <2021-11-15> patch level 1\n",
      "L3 programming layer <2022-02-24>\n",
      "(/nix/store/3zchnz1k9cyanrqvas3m31aic9y9wbw3-texlive-combined-full-2021-final/s\n",
      "hare/texmf/tex/latex/exam/exam.cls\n",
      "Document Class: exam 2021/02/26 Version 2.7 by Philip Hirschhorn\n",
      "\n",
      "(/nix/store/3zchnz1k9cyanrqvas3m31aic9y9wbw3-texlive-combined-full-2021-final/s\n",
      "hare/texmf/tex/latex/base/ifthen.sty)\n",
      "(/nix/store/3zchnz1k9cyanrqvas3m31aic9y9wbw3-texlive-combined-full-2021-final/s\n",
      "hare/texmf/tex/latex/base/article.cls\n",
      "Document Class: article 2021/10/04 v1.4n Standard LaTeX document class\n",
      "\n",
      "(/nix/store/3zchnz1k9cyanrqvas3m31aic9y9wbw3-texlive-combined-full-2021-final/s\n",
      "hare/texmf/tex/latex/base/size10.clo)))\n",
      "(/nix/store/3zchnz1k9cyanrqvas3m31aic9y9wbw3-texlive-combined-full-2021-final/s\n",
      "hare/texmf/tex/latex/base/inputenc.sty)\n",
      "(/nix/store/3zchnz1k9cyanrqvas3m31aic9y9wbw3-texlive-combined-full-2021-final/s\n",
      "hare/texmf/tex/generic/babel/babel.sty\n",
      "(/nix/store/3zchnz1k9cyanrqvas3m31aic9y9wbw3-texlive-combined-full-2021-final/s\n",
      "hare/texmf/tex/generic/babel/txtbabel.def)\n",
      "(/nix/store/3zchnz1k9cyanrqvas3m31aic9y9wbw3-texlive-combined-full-2021-final/s\n",
      "hare/texmf/tex/generic/babel-portuges/portuguese.ldf))\n",
      "(/nix/store/3zchnz1k9cyanrqvas3m31aic9y9wbw3-texlive-combined-full-2021-final/s\n",
      "hare/texmf/tex/latex/l3backend/l3backend-pdftex.def) (./main.aux\n",
      "\n",
      "LaTeX Warning: Label `question@1' multiply defined.\n",
      "\n",
      "\n",
      "LaTeX Warning: Label `question@2' multiply defined.\n",
      "\n",
      ")\n",
      "Underfull \\hbox (badness 10000) in paragraph at lines 16--20\n",
      "[]\\OT1/cmr/m/n/10 6.37\n",
      "\n",
      "Underfull \\hbox (badness 10000) in paragraph at lines 16--20\n",
      "\n",
      "\n",
      "Underfull \\hbox (badness 10000) in paragraph at lines 20--24\n",
      "[]\\OT1/cmr/m/n/10 6.37\n",
      "\n",
      "Underfull \\hbox (badness 10000) in paragraph at lines 20--24\n",
      "\n",
      "[1{/nix/store/3zchnz1k9cyanrqvas3m31aic9y9wbw3-texlive-combined-full-2021-final\n",
      "/share/texmf-var/fonts/map/pdftex/updmap/pdftex.map}]\n",
      "Underfull \\hbox (badness 10000) in paragraph at lines 33--37\n",
      "[]\\OT1/cmr/m/n/10 2.64\n",
      "\n",
      "Underfull \\hbox (badness 10000) in paragraph at lines 33--37\n",
      "\n",
      "\n",
      "Underfull \\hbox (badness 10000) in paragraph at lines 37--41\n",
      "[]\\OT1/cmr/m/n/10 2.64\n",
      "\n",
      "Underfull \\hbox (badness 10000) in paragraph at lines 37--41\n",
      "\n",
      "[2]\n",
      "This exam contains 4 questions with 0 parts, 0 subparts, and 0 subsubparts.\n",
      "This exam has a total of 100 points.\n",
      "This exam has a total of 0 bonus points.\n",
      "(./main.aux)\n",
      "\n",
      "LaTeX Warning: There were multiply-defined labels.\n",
      "\n",
      " )\n",
      "(see the transcript file for additional information)</nix/store/3zchnz1k9cyanrq\n",
      "vas3m31aic9y9wbw3-texlive-combined-full-2021-final/share/texmf/fonts/type1/publ\n",
      "ic/amsfonts/cm/cmbx12.pfb></nix/store/3zchnz1k9cyanrqvas3m31aic9y9wbw3-texlive-\n",
      "combined-full-2021-final/share/texmf/fonts/type1/public/amsfonts/cm/cmr10.pfb>\n",
      "Output written on main.pdf (2 pages, 29754 bytes).\n",
      "Transcript written on main.log.\n"
     ]
    }
   ],
   "source": [
    "exame.setPDF()"
   ]
  }
 ],
 "metadata": {
  "kernelspec": {
   "display_name": "Python 3.10.4 64-bit",
   "language": "python",
   "name": "python3"
  },
  "language_info": {
   "codemirror_mode": {
    "name": "ipython",
    "version": 3
   },
   "file_extension": ".py",
   "mimetype": "text/x-python",
   "name": "python",
   "nbconvert_exporter": "python",
   "pygments_lexer": "ipython3",
   "version": "3.10.4"
  },
  "orig_nbformat": 4,
  "vscode": {
   "interpreter": {
    "hash": "7808a3bb7ad42e5121cf53d9262afa4602c7ae7066cc0eaba1d0793744cb24e8"
   }
  }
 },
 "nbformat": 4,
 "nbformat_minor": 2
}
