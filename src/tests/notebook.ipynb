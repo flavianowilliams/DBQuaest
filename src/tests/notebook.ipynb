{
 "cells": [
  {
   "cell_type": "code",
   "execution_count": 1,
   "metadata": {},
   "outputs": [],
   "source": [
    "from dbquaest import exam\n",
    "import datetime"
   ]
  },
  {
   "cell_type": "code",
   "execution_count": 2,
   "metadata": {},
   "outputs": [],
   "source": [
    "exame = exam.test(2, datetime.date.today)"
   ]
  },
  {
   "cell_type": "code",
   "execution_count": 3,
   "metadata": {},
   "outputs": [
    {
     "data": {
      "text/plain": [
       "[[{'code': 'MWE002',\n",
       "   'test': 0,\n",
       "   'text': 'Durante sua trajetória uma partícula realizou um trabalho de    8.75 J. Qual foi a variação da sua energia cinética?',\n",
       "   'figure': '',\n",
       "   'alternative': ['0.41 J',\n",
       "    '3.65 J',\n",
       "    '9.66 J',\n",
       "    '-7.96 J',\n",
       "    '6.71 J',\n",
       "    '4.07 J',\n",
       "    '2.34 J',\n",
       "    '3.68 J',\n",
       "    '-1.47 J',\n",
       "    '8.75 J'],\n",
       "   'result': [0.0, 0.0, 0.0, 0.0, 0.0, 0.0, 0.0, 0.0, 0.0, 33]},\n",
       "  {'code': 'MWE002',\n",
       "   'test': 1,\n",
       "   'text': 'Durante sua trajetória uma partícula realizou um trabalho de   -7.39 J. Qual foi a variação da sua energia cinética?',\n",
       "   'figure': '',\n",
       "   'alternative': ['6.35 J',\n",
       "    '-7.82 J',\n",
       "    '-7.23 J',\n",
       "    '-0.36 J',\n",
       "    '-7.39 J',\n",
       "    '9.46 J',\n",
       "    '5.52 J',\n",
       "    '-6.12 J',\n",
       "    '-0.66 J',\n",
       "    '-7.02 J'],\n",
       "   'result': [0.0, 0.0, 0.0, 0.0, 33, 0.0, 0.0, 0.0, 0.0, 0.0]}]]"
      ]
     },
     "execution_count": 3,
     "metadata": {},
     "output_type": "execute_result"
    }
   ],
   "source": [
    "exame.add_question(33, 'MWE002')"
   ]
  },
  {
   "cell_type": "code",
   "execution_count": 4,
   "metadata": {},
   "outputs": [
    {
     "data": {
      "text/plain": [
       "[[{'code': 'MWE002',\n",
       "   'test': 0,\n",
       "   'text': 'Durante sua trajetória uma partícula realizou um trabalho de    8.75 J. Qual foi a variação da sua energia cinética?',\n",
       "   'figure': '',\n",
       "   'alternative': ['0.41 J',\n",
       "    '3.65 J',\n",
       "    '9.66 J',\n",
       "    '-7.96 J',\n",
       "    '6.71 J',\n",
       "    '4.07 J',\n",
       "    '2.34 J',\n",
       "    '3.68 J',\n",
       "    '-1.47 J',\n",
       "    '8.75 J'],\n",
       "   'result': [0.0, 0.0, 0.0, 0.0, 0.0, 0.0, 0.0, 0.0, 0.0, 33]},\n",
       "  {'code': 'MWE002',\n",
       "   'test': 1,\n",
       "   'text': 'Durante sua trajetória uma partícula realizou um trabalho de   -7.39 J. Qual foi a variação da sua energia cinética?',\n",
       "   'figure': '',\n",
       "   'alternative': ['6.35 J',\n",
       "    '-7.82 J',\n",
       "    '-7.23 J',\n",
       "    '-0.36 J',\n",
       "    '-7.39 J',\n",
       "    '9.46 J',\n",
       "    '5.52 J',\n",
       "    '-6.12 J',\n",
       "    '-0.66 J',\n",
       "    '-7.02 J'],\n",
       "   'result': [0.0, 0.0, 0.0, 0.0, 33, 0.0, 0.0, 0.0, 0.0, 0.0]}],\n",
       " [{'code': 'MWE001',\n",
       "   'test': 0,\n",
       "   'text': 'Considere uma partícula de massa    8.28 kg e velocidade    3.39 m/s. Determine a sua energia cinética.',\n",
       "   'figure': 'MWE001',\n",
       "   'alternative': ['10.91 J',\n",
       "    '36.95 J',\n",
       "    '41.26 J',\n",
       "    '47.66 J',\n",
       "    '91.88 J',\n",
       "    '190.88 J',\n",
       "    '136.09 J',\n",
       "    '423.19 J',\n",
       "    '10.03 J',\n",
       "    '32.13 J'],\n",
       "   'result': [0.0, 0.0, 0.0, 23, 0.0, 0.0, 0.0, 0.0, 0.0, 0.0]},\n",
       "  {'code': 'MWE001',\n",
       "   'test': 1,\n",
       "   'text': 'Considere uma partícula de massa    4.39 kg e velocidade    1.31 m/s. Determine a sua energia cinética.',\n",
       "   'figure': 'MWE001',\n",
       "   'alternative': ['59.06 J',\n",
       "    '545.32 J',\n",
       "    '25.4 J',\n",
       "    '456.84 J',\n",
       "    '10.67 J',\n",
       "    '161.39 J',\n",
       "    '3.76 J',\n",
       "    '320.04 J',\n",
       "    '65.44 J',\n",
       "    '337.2 J'],\n",
       "   'result': [0.0, 0.0, 0.0, 0.0, 0.0, 0.0, 23, 0.0, 0.0, 0.0]}]]"
      ]
     },
     "execution_count": 4,
     "metadata": {},
     "output_type": "execute_result"
    }
   ],
   "source": [
    "exame.add_question(23, 'MWE001')"
   ]
  },
  {
   "cell_type": "code",
   "execution_count": 5,
   "metadata": {},
   "outputs": [
    {
     "data": {
      "text/plain": [
       "[0.0, 0.0]"
      ]
     },
     "execution_count": 5,
     "metadata": {},
     "output_type": "execute_result"
    }
   ],
   "source": [
    "exame.set_correction(1,['I', 'B'])\n",
    "exame.feedback"
   ]
  },
  {
   "cell_type": "code",
   "execution_count": 6,
   "metadata": {},
   "outputs": [
    {
     "name": "stdout",
     "output_type": "stream",
     "text": [
      "This is pdfTeX, Version 3.141592653-2.6-1.40.22 (TeX Live 2021/NixOS.org) (preloaded format=pdflatex)\n",
      " restricted \\write18 enabled.\n",
      "entering extended mode\n",
      "(./main.tex\n",
      "LaTeX2e <2021-11-15> patch level 1\n",
      "L3 programming layer <2022-02-24>\n",
      "(/nix/store/3zchnz1k9cyanrqvas3m31aic9y9wbw3-texlive-combined-full-2021-final/s\n",
      "hare/texmf/tex/latex/exam/exam.cls\n",
      "Document Class: exam 2021/02/26 Version 2.7 by Philip Hirschhorn\n",
      "\n",
      "(/nix/store/3zchnz1k9cyanrqvas3m31aic9y9wbw3-texlive-combined-full-2021-final/s\n",
      "hare/texmf/tex/latex/base/ifthen.sty)\n",
      "(/nix/store/3zchnz1k9cyanrqvas3m31aic9y9wbw3-texlive-combined-full-2021-final/s\n",
      "hare/texmf/tex/latex/base/article.cls\n",
      "Document Class: article 2021/10/04 v1.4n Standard LaTeX document class\n",
      "\n",
      "(/nix/store/3zchnz1k9cyanrqvas3m31aic9y9wbw3-texlive-combined-full-2021-final/s\n",
      "hare/texmf/tex/latex/base/size12.clo)))\n",
      "(/nix/store/3zchnz1k9cyanrqvas3m31aic9y9wbw3-texlive-combined-full-2021-final/s\n",
      "hare/texmf/tex/latex/base/inputenc.sty)\n",
      "(/nix/store/3zchnz1k9cyanrqvas3m31aic9y9wbw3-texlive-combined-full-2021-final/s\n",
      "hare/texmf/tex/generic/babel/babel.sty\n",
      "(/nix/store/3zchnz1k9cyanrqvas3m31aic9y9wbw3-texlive-combined-full-2021-final/s\n",
      "hare/texmf/tex/generic/babel/txtbabel.def)\n",
      "(/nix/store/3zchnz1k9cyanrqvas3m31aic9y9wbw3-texlive-combined-full-2021-final/s\n",
      "hare/texmf/tex/generic/babel-portuges/portuguese.ldf))\n",
      "(/nix/store/3zchnz1k9cyanrqvas3m31aic9y9wbw3-texlive-combined-full-2021-final/s\n",
      "hare/texmf/tex/latex/tools/multicol.sty)\n",
      "(/nix/store/3zchnz1k9cyanrqvas3m31aic9y9wbw3-texlive-combined-full-2021-final/s\n",
      "hare/texmf/tex/latex/graphics/graphicx.sty\n",
      "(/nix/store/3zchnz1k9cyanrqvas3m31aic9y9wbw3-texlive-combined-full-2021-final/s\n",
      "hare/texmf/tex/latex/graphics/keyval.sty)\n",
      "(/nix/store/3zchnz1k9cyanrqvas3m31aic9y9wbw3-texlive-combined-full-2021-final/s\n",
      "hare/texmf/tex/latex/graphics/graphics.sty\n",
      "(/nix/store/3zchnz1k9cyanrqvas3m31aic9y9wbw3-texlive-combined-full-2021-final/s\n",
      "hare/texmf/tex/latex/graphics/trig.sty)\n",
      "(/nix/store/3zchnz1k9cyanrqvas3m31aic9y9wbw3-texlive-combined-full-2021-final/s\n",
      "hare/texmf/tex/latex/graphics-cfg/graphics.cfg)\n",
      "(/nix/store/3zchnz1k9cyanrqvas3m31aic9y9wbw3-texlive-combined-full-2021-final/s\n",
      "hare/texmf/tex/latex/graphics-def/pdftex.def)))\n",
      "(/nix/store/3zchnz1k9cyanrqvas3m31aic9y9wbw3-texlive-combined-full-2021-final/s\n",
      "hare/texmf/tex/latex/amsmath/amsmath.sty\n",
      "For additional information on amsmath, use the `?' option.\n",
      "\n",
      "(/nix/store/3zchnz1k9cyanrqvas3m31aic9y9wbw3-texlive-combined-full-2021-final/s\n",
      "hare/texmf/tex/latex/amsmath/amstext.sty\n",
      "(/nix/store/3zchnz1k9cyanrqvas3m31aic9y9wbw3-texlive-combined-full-2021-final/s\n",
      "hare/texmf/tex/latex/amsmath/amsgen.sty))\n",
      "(/nix/store/3zchnz1k9cyanrqvas3m31aic9y9wbw3-texlive-combined-full-2021-final/s\n",
      "hare/texmf/tex/latex/amsmath/amsbsy.sty)\n",
      "(/nix/store/3zchnz1k9cyanrqvas3m31aic9y9wbw3-texlive-combined-full-2021-final/s\n",
      "hare/texmf/tex/latex/amsmath/amsopn.sty))\n",
      "(/nix/store/3zchnz1k9cyanrqvas3m31aic9y9wbw3-texlive-combined-full-2021-final/s\n",
      "hare/texmf/tex/latex/l3backend/l3backend-pdftex.def) (./main.aux)\n",
      "(/nix/store/3zchnz1k9cyanrqvas3m31aic9y9wbw3-texlive-combined-full-2021-final/s\n",
      "hare/texmf/tex/context/base/mkii/supp-pdf.mkii\n",
      "[Loading MPS to PDF converter (version 2006.09.02).]\n",
      ")\n",
      "(/nix/store/3zchnz1k9cyanrqvas3m31aic9y9wbw3-texlive-combined-full-2021-final/s\n",
      "hare/texmf/tex/latex/epstopdf-pkg/epstopdf-base.sty\n",
      "(/nix/store/3zchnz1k9cyanrqvas3m31aic9y9wbw3-texlive-combined-full-2021-final/s\n",
      "hare/texmf/tex/generic/infwarerr/infwarerr.sty)\n",
      "(/nix/store/3zchnz1k9cyanrqvas3m31aic9y9wbw3-texlive-combined-full-2021-final/s\n",
      "hare/texmf/tex/latex/grfext/grfext.sty\n",
      "(/nix/store/3zchnz1k9cyanrqvas3m31aic9y9wbw3-texlive-combined-full-2021-final/s\n",
      "hare/texmf/tex/generic/kvdefinekeys/kvdefinekeys.sty))\n",
      "(/nix/store/3zchnz1k9cyanrqvas3m31aic9y9wbw3-texlive-combined-full-2021-final/s\n",
      "hare/texmf/tex/latex/kvoptions/kvoptions.sty\n",
      "(/nix/store/3zchnz1k9cyanrqvas3m31aic9y9wbw3-texlive-combined-full-2021-final/s\n",
      "hare/texmf/tex/generic/ltxcmds/ltxcmds.sty)\n",
      "(/nix/store/3zchnz1k9cyanrqvas3m31aic9y9wbw3-texlive-combined-full-2021-final/s\n",
      "hare/texmf/tex/generic/kvsetkeys/kvsetkeys.sty))\n",
      "(/nix/store/3zchnz1k9cyanrqvas3m31aic9y9wbw3-texlive-combined-full-2021-final/s\n",
      "hare/texmf/tex/generic/pdftexcmds/pdftexcmds.sty\n",
      "(/nix/store/3zchnz1k9cyanrqvas3m31aic9y9wbw3-texlive-combined-full-2021-final/s\n",
      "hare/texmf/tex/generic/iftex/iftex.sty))\n",
      "(/nix/store/3zchnz1k9cyanrqvas3m31aic9y9wbw3-texlive-combined-full-2021-final/s\n",
      "hare/texmf/tex/latex/latexconfig/epstopdf-sys.cfg)) [1{/nix/store/3zchnz1k9cyan\n",
      "rqvas3m31aic9y9wbw3-texlive-combined-full-2021-final/share/texmf-var/fonts/map/\n",
      "pdftex/updmap/pdftex.map} <./MWE001.jpg>] [2]\n",
      "This exam contains 4 questions with 0 parts, 0 subparts, and 0 subsubparts.\n",
      "This exam has a total of 112 points.\n",
      "This exam has a total of 0 bonus points.\n",
      "\n",
      "Class exam Warning: Point totals have changed. Rerun to get point totals right.\n",
      "\n",
      "\n",
      "(./main.aux)\n",
      "\n",
      "LaTeX Warning: Label(s) may have changed. Rerun to get cross-references right.\n",
      "\n",
      " )</nix/store/3zchnz1k9cyanrqvas3m31aic9y9wbw3-texlive-combined-full-2021-final\n",
      "/share/texmf/fonts/type1/public/amsfonts/cm/cmbx12.pfb></nix/store/3zchnz1k9cya\n",
      "nrqvas3m31aic9y9wbw3-texlive-combined-full-2021-final/share/texmf/fonts/type1/p\n",
      "ublic/amsfonts/cm/cmr12.pfb>\n",
      "Output written on main.pdf (2 pages, 49685 bytes).\n",
      "Transcript written on main.log.\n"
     ]
    }
   ],
   "source": [
    "exame.make_exam()"
   ]
  }
 ],
 "metadata": {
  "kernelspec": {
   "display_name": "Python 3.10.4 64-bit",
   "language": "python",
   "name": "python3"
  },
  "language_info": {
   "codemirror_mode": {
    "name": "ipython",
    "version": 3
   },
   "file_extension": ".py",
   "mimetype": "text/x-python",
   "name": "python",
   "nbconvert_exporter": "python",
   "pygments_lexer": "ipython3",
   "version": "3.10.4"
  },
  "orig_nbformat": 4,
  "vscode": {
   "interpreter": {
    "hash": "7808a3bb7ad42e5121cf53d9262afa4602c7ae7066cc0eaba1d0793744cb24e8"
   }
  }
 },
 "nbformat": 4,
 "nbformat_minor": 2
}
