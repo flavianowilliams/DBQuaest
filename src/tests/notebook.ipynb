{
 "cells": [
  {
   "cell_type": "code",
   "execution_count": 1,
   "metadata": {},
   "outputs": [],
   "source": [
    "from dbquaest import make_test"
   ]
  },
  {
   "cell_type": "code",
   "execution_count": 2,
   "metadata": {},
   "outputs": [],
   "source": [
    "exame = make_test.Test(1, 2)"
   ]
  },
  {
   "cell_type": "code",
   "execution_count": 3,
   "metadata": {},
   "outputs": [
    {
     "data": {
      "text/plain": [
       "[[{'text': 'Considere uma partícula de massa    1.69 kg e velocidade    8.66 m/s. Determine a sua energia cinética.',\n",
       "   'alternative': ['1.95',\n",
       "    '29.8',\n",
       "    '63.17',\n",
       "    '188.79',\n",
       "    '206.17',\n",
       "    '269.05',\n",
       "    '410.32',\n",
       "    '442.53',\n",
       "    '497.95',\n",
       "    '635.84']},\n",
       "  {'text': 'Considere uma partícula de massa    3.66 kg e velocidade    4.04 m/s. Determine a sua energia cinética.',\n",
       "   'alternative': ['14.65',\n",
       "    '27.07',\n",
       "    '29.83',\n",
       "    '73.21',\n",
       "    '150.26',\n",
       "    '202.97',\n",
       "    '272.32',\n",
       "    '385.13',\n",
       "    '486.76',\n",
       "    '714.95']}]]"
      ]
     },
     "execution_count": 3,
     "metadata": {},
     "output_type": "execute_result"
    }
   ],
   "source": [
    "exame.addQuestion('MWE001')"
   ]
  },
  {
   "cell_type": "code",
   "execution_count": 4,
   "metadata": {},
   "outputs": [
    {
     "data": {
      "text/plain": [
       "[[{'text': 'Considere uma partícula de massa    1.69 kg e velocidade    8.66 m/s. Determine a sua energia cinética.',\n",
       "   'alternative': ['1.95',\n",
       "    '29.8',\n",
       "    '63.17',\n",
       "    '188.79',\n",
       "    '206.17',\n",
       "    '269.05',\n",
       "    '410.32',\n",
       "    '442.53',\n",
       "    '497.95',\n",
       "    '635.84']},\n",
       "  {'text': 'Considere uma partícula de massa    3.66 kg e velocidade    4.04 m/s. Determine a sua energia cinética.',\n",
       "   'alternative': ['14.65',\n",
       "    '27.07',\n",
       "    '29.83',\n",
       "    '73.21',\n",
       "    '150.26',\n",
       "    '202.97',\n",
       "    '272.32',\n",
       "    '385.13',\n",
       "    '486.76',\n",
       "    '714.95']}],\n",
       " [{'text': 'Durante sua trajetória uma partícula realizou um trabalho de   -7.01. Qual foi a variação da sua energia cinética?',\n",
       "   'alternative': ['-7.93',\n",
       "    '-7.79',\n",
       "    '-7.01',\n",
       "    '-6.43',\n",
       "    '-6.3',\n",
       "    '-5.69',\n",
       "    '-4.26',\n",
       "    '3.31',\n",
       "    '6.37',\n",
       "    '9.2']},\n",
       "  {'text': 'Durante sua trajetória uma partícula realizou um trabalho de    8.92. Qual foi a variação da sua energia cinética?',\n",
       "   'alternative': ['-5.84',\n",
       "    '-4.6',\n",
       "    '-4.22',\n",
       "    '-1.47',\n",
       "    '-0.81',\n",
       "    '0.68',\n",
       "    '1.21',\n",
       "    '4.67',\n",
       "    '6.4',\n",
       "    '8.92']}]]"
      ]
     },
     "execution_count": 4,
     "metadata": {},
     "output_type": "execute_result"
    }
   ],
   "source": [
    "exame.addQuestion('MWE002')"
   ]
  },
  {
   "cell_type": "code",
   "execution_count": 5,
   "metadata": {},
   "outputs": [
    {
     "name": "stdout",
     "output_type": "stream",
     "text": [
      "This is pdfTeX, Version 3.141592653-2.6-1.40.22 (TeX Live 2021/NixOS.org) (preloaded format=pdflatex)\n",
      " restricted \\write18 enabled.\n",
      "entering extended mode\n",
      "(./main.tex\n",
      "LaTeX2e <2021-11-15> patch level 1\n",
      "L3 programming layer <2022-02-24>\n",
      "(/nix/store/3zchnz1k9cyanrqvas3m31aic9y9wbw3-texlive-combined-full-2021-final/s\n",
      "hare/texmf/tex/latex/exam/exam.cls\n",
      "Document Class: exam 2021/02/26 Version 2.7 by Philip Hirschhorn\n",
      "\n",
      "(/nix/store/3zchnz1k9cyanrqvas3m31aic9y9wbw3-texlive-combined-full-2021-final/s\n",
      "hare/texmf/tex/latex/base/ifthen.sty)\n",
      "(/nix/store/3zchnz1k9cyanrqvas3m31aic9y9wbw3-texlive-combined-full-2021-final/s\n",
      "hare/texmf/tex/latex/base/article.cls\n",
      "Document Class: article 2021/10/04 v1.4n Standard LaTeX document class\n",
      "\n",
      "(/nix/store/3zchnz1k9cyanrqvas3m31aic9y9wbw3-texlive-combined-full-2021-final/s\n",
      "hare/texmf/tex/latex/base/size10.clo)))\n",
      "(/nix/store/3zchnz1k9cyanrqvas3m31aic9y9wbw3-texlive-combined-full-2021-final/s\n",
      "hare/texmf/tex/latex/base/inputenc.sty)\n",
      "(/nix/store/3zchnz1k9cyanrqvas3m31aic9y9wbw3-texlive-combined-full-2021-final/s\n",
      "hare/texmf/tex/generic/babel/babel.sty\n",
      "(/nix/store/3zchnz1k9cyanrqvas3m31aic9y9wbw3-texlive-combined-full-2021-final/s\n",
      "hare/texmf/tex/generic/babel/txtbabel.def)\n",
      "(/nix/store/3zchnz1k9cyanrqvas3m31aic9y9wbw3-texlive-combined-full-2021-final/s\n",
      "hare/texmf/tex/generic/babel-portuges/portuguese.ldf))\n",
      "(/nix/store/3zchnz1k9cyanrqvas3m31aic9y9wbw3-texlive-combined-full-2021-final/s\n",
      "hare/texmf/tex/latex/l3backend/l3backend-pdftex.def) (./main.aux\n",
      "\n",
      "LaTeX Warning: Label `question@1' multiply defined.\n",
      "\n",
      "\n",
      "LaTeX Warning: Label `question@2' multiply defined.\n",
      "\n",
      ")\n",
      "Underfull \\hbox (badness 10000) in paragraph at lines 16--20\n",
      "\\OT1/cmr/m/n/10 cin^^Setica.\n",
      "\n",
      "Underfull \\hbox (badness 10000) in paragraph at lines 16--20\n",
      "\n",
      "\n",
      "Underfull \\hbox (badness 10000) in paragraph at lines 20--24\n",
      "\\OT1/cmr/m/n/10 sua ener-gia cin^^Setica?\n",
      "\n",
      "Underfull \\hbox (badness 10000) in paragraph at lines 20--24\n",
      "\n",
      "[1{/nix/store/3zchnz1k9cyanrqvas3m31aic9y9wbw3-texlive-combined-full-2021-final\n",
      "/share/texmf-var/fonts/map/pdftex/updmap/pdftex.map}]\n",
      "Underfull \\hbox (badness 10000) in paragraph at lines 33--37\n",
      "\\OT1/cmr/m/n/10 cin^^Setica.\n",
      "\n",
      "Underfull \\hbox (badness 10000) in paragraph at lines 33--37\n",
      "\n",
      "\n",
      "Underfull \\hbox (badness 10000) in paragraph at lines 37--41\n",
      "\\OT1/cmr/m/n/10 ener-gia cin^^Setica?\n",
      "\n",
      "Underfull \\hbox (badness 10000) in paragraph at lines 37--41\n",
      "\n",
      "[2]\n",
      "This exam contains 4 questions with 0 parts, 0 subparts, and 0 subsubparts.\n",
      "This exam has a total of 100 points.\n",
      "This exam has a total of 0 bonus points.\n",
      "(./main.aux)\n",
      "\n",
      "LaTeX Warning: There were multiply-defined labels.\n",
      "\n",
      " )\n",
      "(see the transcript file for additional information)</nix/store/3zchnz1k9cyanrq\n",
      "vas3m31aic9y9wbw3-texlive-combined-full-2021-final/share/texmf/fonts/type1/publ\n",
      "ic/amsfonts/cm/cmbx12.pfb></nix/store/3zchnz1k9cyanrqvas3m31aic9y9wbw3-texlive-\n",
      "combined-full-2021-final/share/texmf/fonts/type1/public/amsfonts/cm/cmr10.pfb>\n",
      "Output written on main.pdf (2 pages, 32896 bytes).\n",
      "Transcript written on main.log.\n"
     ]
    }
   ],
   "source": [
    "exame.setPDF()"
   ]
  },
  {
   "cell_type": "code",
   "execution_count": 6,
   "metadata": {},
   "outputs": [
    {
     "data": {
      "text/plain": [
       "[[{'text': 'Considere uma partícula de massa    1.69 kg e velocidade    8.66 m/s. Determine a sua energia cinética.',\n",
       "   'alternative': ['1.95',\n",
       "    '29.8',\n",
       "    '63.17',\n",
       "    '188.79',\n",
       "    '206.17',\n",
       "    '269.05',\n",
       "    '410.32',\n",
       "    '442.53',\n",
       "    '497.95',\n",
       "    '635.84']},\n",
       "  {'text': 'Considere uma partícula de massa    3.66 kg e velocidade    4.04 m/s. Determine a sua energia cinética.',\n",
       "   'alternative': ['14.65',\n",
       "    '27.07',\n",
       "    '29.83',\n",
       "    '73.21',\n",
       "    '150.26',\n",
       "    '202.97',\n",
       "    '272.32',\n",
       "    '385.13',\n",
       "    '486.76',\n",
       "    '714.95']}],\n",
       " [{'text': 'Durante sua trajetória uma partícula realizou um trabalho de   -7.01. Qual foi a variação da sua energia cinética?',\n",
       "   'alternative': ['-7.93',\n",
       "    '-7.79',\n",
       "    '-7.01',\n",
       "    '-6.43',\n",
       "    '-6.3',\n",
       "    '-5.69',\n",
       "    '-4.26',\n",
       "    '3.31',\n",
       "    '6.37',\n",
       "    '9.2']},\n",
       "  {'text': 'Durante sua trajetória uma partícula realizou um trabalho de    8.92. Qual foi a variação da sua energia cinética?',\n",
       "   'alternative': ['-5.84',\n",
       "    '-4.6',\n",
       "    '-4.22',\n",
       "    '-1.47',\n",
       "    '-0.81',\n",
       "    '0.68',\n",
       "    '1.21',\n",
       "    '4.67',\n",
       "    '6.4',\n",
       "    '8.92']}]]"
      ]
     },
     "execution_count": 6,
     "metadata": {},
     "output_type": "execute_result"
    }
   ],
   "source": [
    "exame.question_list"
   ]
  }
 ],
 "metadata": {
  "kernelspec": {
   "display_name": "Python 3.10.4 64-bit",
   "language": "python",
   "name": "python3"
  },
  "language_info": {
   "codemirror_mode": {
    "name": "ipython",
    "version": 3
   },
   "file_extension": ".py",
   "mimetype": "text/x-python",
   "name": "python",
   "nbconvert_exporter": "python",
   "pygments_lexer": "ipython3",
   "version": "3.10.4"
  },
  "orig_nbformat": 4,
  "vscode": {
   "interpreter": {
    "hash": "7808a3bb7ad42e5121cf53d9262afa4602c7ae7066cc0eaba1d0793744cb24e8"
   }
  }
 },
 "nbformat": 4,
 "nbformat_minor": 2
}
