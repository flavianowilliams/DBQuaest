{
 "cells": [
  {
   "cell_type": "code",
   "execution_count": 13,
   "metadata": {},
   "outputs": [],
   "source": [
    "from dbquaest import make_test"
   ]
  },
  {
   "cell_type": "code",
   "execution_count": 14,
   "metadata": {},
   "outputs": [],
   "source": [
    "exame = make_test.Test(2)"
   ]
  },
  {
   "cell_type": "code",
   "execution_count": 15,
   "metadata": {},
   "outputs": [
    {
     "data": {
      "text/plain": [
       "[[{'text': 'Durante sua trajetória uma partícula realizou um trabalho de   -0.42 J. Qual foi a variação da sua energia cinética?',\n",
       "   'alternative': ['-0.42 J',\n",
       "    '-2.52 J',\n",
       "    '-3.98 J',\n",
       "    '-4.59 J',\n",
       "    '-8.2 J',\n",
       "    '5.44 J',\n",
       "    '7.06 J',\n",
       "    '7.47 J',\n",
       "    '9.27 J',\n",
       "    '9.92 J']},\n",
       "  {'text': 'Durante sua trajetória uma partícula realizou um trabalho de   -3.01 J. Qual foi a variação da sua energia cinética?',\n",
       "   'alternative': ['-0.8 J',\n",
       "    '-10.0 J',\n",
       "    '-3.01 J',\n",
       "    '-4.86 J',\n",
       "    '-7.15 J',\n",
       "    '-7.88 J',\n",
       "    '0.15 J',\n",
       "    '0.75 J',\n",
       "    '2.28 J',\n",
       "    '8.87 J']}]]"
      ]
     },
     "execution_count": 15,
     "metadata": {},
     "output_type": "execute_result"
    }
   ],
   "source": [
    "exame.addQuestion(33, 'MWE002')"
   ]
  },
  {
   "cell_type": "code",
   "execution_count": 16,
   "metadata": {},
   "outputs": [
    {
     "data": {
      "text/plain": [
       "[[{'text': 'Durante sua trajetória uma partícula realizou um trabalho de   -0.42 J. Qual foi a variação da sua energia cinética?',\n",
       "   'alternative': ['-0.42 J',\n",
       "    '-2.52 J',\n",
       "    '-3.98 J',\n",
       "    '-4.59 J',\n",
       "    '-8.2 J',\n",
       "    '5.44 J',\n",
       "    '7.06 J',\n",
       "    '7.47 J',\n",
       "    '9.27 J',\n",
       "    '9.92 J']},\n",
       "  {'text': 'Durante sua trajetória uma partícula realizou um trabalho de   -3.01 J. Qual foi a variação da sua energia cinética?',\n",
       "   'alternative': ['-0.8 J',\n",
       "    '-10.0 J',\n",
       "    '-3.01 J',\n",
       "    '-4.86 J',\n",
       "    '-7.15 J',\n",
       "    '-7.88 J',\n",
       "    '0.15 J',\n",
       "    '0.75 J',\n",
       "    '2.28 J',\n",
       "    '8.87 J']}],\n",
       " [{'text': 'Considere uma partícula de massa    2.73 kg e velocidade    3.08 m/s. Determine a sua energia cinética.',\n",
       "   'alternative': ['100.8 J',\n",
       "    '12.92 J',\n",
       "    '16.83 J',\n",
       "    '216.14 J',\n",
       "    '230.25 J',\n",
       "    '240.56 J',\n",
       "    '25.44 J',\n",
       "    '56.37 J',\n",
       "    '614.99 J',\n",
       "    '77.22 J']},\n",
       "  {'text': 'Considere uma partícula de massa    2.04 kg e velocidade    3.91 m/s. Determine a sua energia cinética.',\n",
       "   'alternative': ['15.58 J',\n",
       "    '155.53 J',\n",
       "    '172.36 J',\n",
       "    '209.9 J',\n",
       "    '462.6 J',\n",
       "    '527.78 J',\n",
       "    '584.75 J',\n",
       "    '69.03 J',\n",
       "    '7.73 J',\n",
       "    '79.14 J']}]]"
      ]
     },
     "execution_count": 16,
     "metadata": {},
     "output_type": "execute_result"
    }
   ],
   "source": [
    "exame.addQuestion(23, 'MWE001')"
   ]
  },
  {
   "cell_type": "code",
   "execution_count": 17,
   "metadata": {},
   "outputs": [
    {
     "data": {
      "text/plain": [
       "[[{'text': 'Durante sua trajetória uma partícula realizou um trabalho de   -0.42 J. Qual foi a variação da sua energia cinética?',\n",
       "   'alternative': ['-0.42 J',\n",
       "    '-2.52 J',\n",
       "    '-3.98 J',\n",
       "    '-4.59 J',\n",
       "    '-8.2 J',\n",
       "    '5.44 J',\n",
       "    '7.06 J',\n",
       "    '7.47 J',\n",
       "    '9.27 J',\n",
       "    '9.92 J']},\n",
       "  {'text': 'Durante sua trajetória uma partícula realizou um trabalho de   -3.01 J. Qual foi a variação da sua energia cinética?',\n",
       "   'alternative': ['-0.8 J',\n",
       "    '-10.0 J',\n",
       "    '-3.01 J',\n",
       "    '-4.86 J',\n",
       "    '-7.15 J',\n",
       "    '-7.88 J',\n",
       "    '0.15 J',\n",
       "    '0.75 J',\n",
       "    '2.28 J',\n",
       "    '8.87 J']}],\n",
       " [{'text': 'Considere uma partícula de massa    2.73 kg e velocidade    3.08 m/s. Determine a sua energia cinética.',\n",
       "   'alternative': ['100.8 J',\n",
       "    '12.92 J',\n",
       "    '16.83 J',\n",
       "    '216.14 J',\n",
       "    '230.25 J',\n",
       "    '240.56 J',\n",
       "    '25.44 J',\n",
       "    '56.37 J',\n",
       "    '614.99 J',\n",
       "    '77.22 J']},\n",
       "  {'text': 'Considere uma partícula de massa    2.04 kg e velocidade    3.91 m/s. Determine a sua energia cinética.',\n",
       "   'alternative': ['15.58 J',\n",
       "    '155.53 J',\n",
       "    '172.36 J',\n",
       "    '209.9 J',\n",
       "    '462.6 J',\n",
       "    '527.78 J',\n",
       "    '584.75 J',\n",
       "    '69.03 J',\n",
       "    '7.73 J',\n",
       "    '79.14 J']}],\n",
       " [{'text': 'Durante sua trajetória uma partícula realizou um trabalho de   -4.08 J. Qual foi a variação da sua energia cinética?',\n",
       "   'alternative': ['-0.43 J',\n",
       "    '-1.15 J',\n",
       "    '-1.18 J',\n",
       "    '-1.61 J',\n",
       "    '-4.08 J',\n",
       "    '-4.52 J',\n",
       "    '-4.73 J',\n",
       "    '-6.41 J',\n",
       "    '4.57 J',\n",
       "    '9.79 J']},\n",
       "  {'text': 'Durante sua trajetória uma partícula realizou um trabalho de    6.86 J. Qual foi a variação da sua energia cinética?',\n",
       "   'alternative': ['-0.44 J',\n",
       "    '-6.02 J',\n",
       "    '-8.16 J',\n",
       "    '-8.64 J',\n",
       "    '0.66 J',\n",
       "    '2.38 J',\n",
       "    '2.42 J',\n",
       "    '4.64 J',\n",
       "    '5.88 J',\n",
       "    '6.86 J']}]]"
      ]
     },
     "execution_count": 17,
     "metadata": {},
     "output_type": "execute_result"
    }
   ],
   "source": [
    "exame.addQuestion(11, 'MWE002')"
   ]
  },
  {
   "cell_type": "code",
   "execution_count": 18,
   "metadata": {},
   "outputs": [
    {
     "name": "stdout",
     "output_type": "stream",
     "text": [
      "This is pdfTeX, Version 3.141592653-2.6-1.40.22 (TeX Live 2021/NixOS.org) (preloaded format=pdflatex)\n",
      " restricted \\write18 enabled.\n",
      "entering extended mode\n",
      "(./main.tex\n",
      "LaTeX2e <2021-11-15> patch level 1\n",
      "L3 programming layer <2022-02-24>\n",
      "(/nix/store/3zchnz1k9cyanrqvas3m31aic9y9wbw3-texlive-combined-full-2021-final/s\n",
      "hare/texmf/tex/latex/exam/exam.cls\n",
      "Document Class: exam 2021/02/26 Version 2.7 by Philip Hirschhorn\n",
      "\n",
      "(/nix/store/3zchnz1k9cyanrqvas3m31aic9y9wbw3-texlive-combined-full-2021-final/s\n",
      "hare/texmf/tex/latex/base/ifthen.sty)\n",
      "(/nix/store/3zchnz1k9cyanrqvas3m31aic9y9wbw3-texlive-combined-full-2021-final/s\n",
      "hare/texmf/tex/latex/base/article.cls\n",
      "Document Class: article 2021/10/04 v1.4n Standard LaTeX document class\n",
      "\n",
      "(/nix/store/3zchnz1k9cyanrqvas3m31aic9y9wbw3-texlive-combined-full-2021-final/s\n",
      "hare/texmf/tex/latex/base/size10.clo)))\n",
      "(/nix/store/3zchnz1k9cyanrqvas3m31aic9y9wbw3-texlive-combined-full-2021-final/s\n",
      "hare/texmf/tex/latex/base/inputenc.sty)\n",
      "(/nix/store/3zchnz1k9cyanrqvas3m31aic9y9wbw3-texlive-combined-full-2021-final/s\n",
      "hare/texmf/tex/generic/babel/babel.sty\n",
      "(/nix/store/3zchnz1k9cyanrqvas3m31aic9y9wbw3-texlive-combined-full-2021-final/s\n",
      "hare/texmf/tex/generic/babel/txtbabel.def)\n",
      "(/nix/store/3zchnz1k9cyanrqvas3m31aic9y9wbw3-texlive-combined-full-2021-final/s\n",
      "hare/texmf/tex/generic/babel-portuges/portuguese.ldf))\n",
      "(/nix/store/3zchnz1k9cyanrqvas3m31aic9y9wbw3-texlive-combined-full-2021-final/s\n",
      "hare/texmf/tex/latex/l3backend/l3backend-pdftex.def)\n",
      "No file main.aux.\n",
      "\n",
      "Underfull \\hbox (badness 10000) in paragraph at lines 17--19\n",
      "\\OT1/cmr/m/n/10 sua ener-gia cin^^Setica?\n",
      "\n",
      "Underfull \\hbox (badness 10000) in paragraph at lines 17--19\n",
      "\n",
      "\n",
      "Underfull \\hbox (badness 10000) in paragraph at lines 17--19\n",
      "\n",
      "\n",
      "Underfull \\hbox (badness 10000) in paragraph at lines 22--24\n",
      "\\OT1/cmr/m/n/10 cin^^Setica.\n",
      "\n",
      "Underfull \\hbox (badness 10000) in paragraph at lines 22--24\n",
      "\n",
      "\n",
      "Underfull \\hbox (badness 10000) in paragraph at lines 22--24\n",
      "\n",
      "\n",
      "Underfull \\hbox (badness 10000) in paragraph at lines 27--29\n",
      "\\OT1/cmr/m/n/10 sua ener-gia cin^^Setica?\n",
      "\n",
      "Underfull \\hbox (badness 10000) in paragraph at lines 27--29\n",
      "\n",
      "\n",
      "Underfull \\hbox (badness 10000) in paragraph at lines 27--29\n",
      "\n",
      "[1{/nix/store/3zchnz1k9cyanrqvas3m31aic9y9wbw3-texlive-combined-full-2021-final\n",
      "/share/texmf-var/fonts/map/pdftex/updmap/pdftex.map}]\n",
      "Underfull \\hbox (badness 10000) in paragraph at lines 42--44\n",
      "\\OT1/cmr/m/n/10 sua ener-gia cin^^Setica?\n",
      "\n",
      "Underfull \\hbox (badness 10000) in paragraph at lines 42--44\n",
      "\n",
      "\n",
      "Underfull \\hbox (badness 10000) in paragraph at lines 42--44\n",
      "\n",
      "\n",
      "Underfull \\hbox (badness 10000) in paragraph at lines 47--49\n",
      "\\OT1/cmr/m/n/10 cin^^Setica.\n",
      "\n",
      "Underfull \\hbox (badness 10000) in paragraph at lines 47--49\n",
      "\n",
      "\n",
      "Underfull \\hbox (badness 10000) in paragraph at lines 47--49\n",
      "\n",
      "\n",
      "Underfull \\hbox (badness 10000) in paragraph at lines 52--54\n",
      "\\OT1/cmr/m/n/10 sua ener-gia cin^^Setica?\n",
      "\n",
      "Underfull \\hbox (badness 10000) in paragraph at lines 52--54\n",
      "\n",
      "\n",
      "Underfull \\hbox (badness 10000) in paragraph at lines 52--54\n",
      "\n",
      "[2]\n",
      "This exam contains 6 questions with 0 parts, 0 subparts, and 0 subsubparts.\n",
      "This exam has a total of 134 points.\n",
      "This exam has a total of 0 bonus points.\n",
      "\n",
      "Class exam Warning: Point totals have changed. Rerun to get point totals right.\n",
      "\n",
      "\n",
      "(./main.aux)\n",
      "\n",
      "LaTeX Warning: Label(s) may have changed. Rerun to get cross-references right.\n",
      "\n",
      " )\n",
      "(see the transcript file for additional information)</nix/store/3zchnz1k9cyanrq\n",
      "vas3m31aic9y9wbw3-texlive-combined-full-2021-final/share/texmf/fonts/type1/publ\n",
      "ic/amsfonts/cm/cmbx12.pfb></nix/store/3zchnz1k9cyanrqvas3m31aic9y9wbw3-texlive-\n",
      "combined-full-2021-final/share/texmf/fonts/type1/public/amsfonts/cm/cmr10.pfb>\n",
      "Output written on main.pdf (2 pages, 33157 bytes).\n",
      "Transcript written on main.log.\n"
     ]
    }
   ],
   "source": [
    "exame.setPDF()"
   ]
  }
 ],
 "metadata": {
  "kernelspec": {
   "display_name": "Python 3.10.4 64-bit",
   "language": "python",
   "name": "python3"
  },
  "language_info": {
   "codemirror_mode": {
    "name": "ipython",
    "version": 3
   },
   "file_extension": ".py",
   "mimetype": "text/x-python",
   "name": "python",
   "nbconvert_exporter": "python",
   "pygments_lexer": "ipython3",
   "version": "3.10.4"
  },
  "orig_nbformat": 4,
  "vscode": {
   "interpreter": {
    "hash": "7808a3bb7ad42e5121cf53d9262afa4602c7ae7066cc0eaba1d0793744cb24e8"
   }
  }
 },
 "nbformat": 4,
 "nbformat_minor": 2
}
