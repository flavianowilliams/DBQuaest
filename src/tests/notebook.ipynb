{
 "cells": [
  {
   "cell_type": "code",
   "execution_count": 1,
   "metadata": {},
   "outputs": [],
   "source": [
    "from dbquaest import exam"
   ]
  },
  {
   "cell_type": "code",
   "execution_count": 2,
   "metadata": {},
   "outputs": [],
   "source": [
    "exame = exam.Test(2)"
   ]
  },
  {
   "cell_type": "code",
   "execution_count": 3,
   "metadata": {},
   "outputs": [
    {
     "data": {
      "text/plain": [
       "[[{'code': 'MWE002',\n",
       "   'test': 0,\n",
       "   'text': 'Durante sua trajetória uma partícula realizou um trabalho de    1.95 J. Qual foi a variação da sua energia cinética?',\n",
       "   'figure': '',\n",
       "   'alternative': ['8.74 J',\n",
       "    '-9.82 J',\n",
       "    '1.95 J',\n",
       "    '7.66 J',\n",
       "    '-9.91 J',\n",
       "    '2.89 J',\n",
       "    '0.99 J',\n",
       "    '5.87 J',\n",
       "    '7.1 J',\n",
       "    '1.97 J'],\n",
       "   'result': [0.0, 0.0, 33, 0.0, 0.0, 0.0, 0.0, 0.0, 0.0, 0.0]},\n",
       "  {'code': 'MWE002',\n",
       "   'test': 1,\n",
       "   'text': 'Durante sua trajetória uma partícula realizou um trabalho de    1.60 J. Qual foi a variação da sua energia cinética?',\n",
       "   'figure': '',\n",
       "   'alternative': ['-3.94 J',\n",
       "    '-7.17 J',\n",
       "    '-1.4 J',\n",
       "    '0.44 J',\n",
       "    '4.6 J',\n",
       "    '-1.83 J',\n",
       "    '7.67 J',\n",
       "    '1.6 J',\n",
       "    '1.99 J',\n",
       "    '-6.76 J'],\n",
       "   'result': [0.0, 0.0, 0.0, 0.0, 0.0, 0.0, 0.0, 33, 0.0, 0.0]}]]"
      ]
     },
     "execution_count": 3,
     "metadata": {},
     "output_type": "execute_result"
    }
   ],
   "source": [
    "exame.addQuestion(33, 'MWE002')"
   ]
  },
  {
   "cell_type": "code",
   "execution_count": 4,
   "metadata": {},
   "outputs": [
    {
     "data": {
      "text/plain": [
       "[[{'code': 'MWE002',\n",
       "   'test': 0,\n",
       "   'text': 'Durante sua trajetória uma partícula realizou um trabalho de    1.95 J. Qual foi a variação da sua energia cinética?',\n",
       "   'figure': '',\n",
       "   'alternative': ['8.74 J',\n",
       "    '-9.82 J',\n",
       "    '1.95 J',\n",
       "    '7.66 J',\n",
       "    '-9.91 J',\n",
       "    '2.89 J',\n",
       "    '0.99 J',\n",
       "    '5.87 J',\n",
       "    '7.1 J',\n",
       "    '1.97 J'],\n",
       "   'result': [0.0, 0.0, 33, 0.0, 0.0, 0.0, 0.0, 0.0, 0.0, 0.0]},\n",
       "  {'code': 'MWE002',\n",
       "   'test': 1,\n",
       "   'text': 'Durante sua trajetória uma partícula realizou um trabalho de    1.60 J. Qual foi a variação da sua energia cinética?',\n",
       "   'figure': '',\n",
       "   'alternative': ['-3.94 J',\n",
       "    '-7.17 J',\n",
       "    '-1.4 J',\n",
       "    '0.44 J',\n",
       "    '4.6 J',\n",
       "    '-1.83 J',\n",
       "    '7.67 J',\n",
       "    '1.6 J',\n",
       "    '1.99 J',\n",
       "    '-6.76 J'],\n",
       "   'result': [0.0, 0.0, 0.0, 0.0, 0.0, 0.0, 0.0, 33, 0.0, 0.0]}],\n",
       " [{'code': 'MWE001',\n",
       "   'test': 0,\n",
       "   'text': 'Considere uma partícula de massa    3.95 kg e velocidade    4.44 m/s. Determine a sua energia cinética.',\n",
       "   'figure': 'MWE001',\n",
       "   'alternative': ['108.36 J',\n",
       "    '15.58 J',\n",
       "    '22.96 J',\n",
       "    '100.43 J',\n",
       "    '3.75 J',\n",
       "    '38.8 J',\n",
       "    '495.93 J',\n",
       "    '18.39 J',\n",
       "    '5.37 J',\n",
       "    '170.98 J'],\n",
       "   'result': [0.0, 0.0, 0.0, 0.0, 0.0, 23, 0.0, 0.0, 0.0, 0.0]},\n",
       "  {'code': 'MWE001',\n",
       "   'test': 1,\n",
       "   'text': 'Considere uma partícula de massa    4.22 kg e velocidade    2.70 m/s. Determine a sua energia cinética.',\n",
       "   'figure': 'MWE001',\n",
       "   'alternative': ['104.72 J',\n",
       "    '54.48 J',\n",
       "    '396.79 J',\n",
       "    '6.25 J',\n",
       "    '15.4 J',\n",
       "    '127.15 J',\n",
       "    '378.18 J',\n",
       "    '266.17 J',\n",
       "    '18.92 J',\n",
       "    '137.79 J'],\n",
       "   'result': [0.0, 0.0, 0.0, 0.0, 23, 0.0, 0.0, 0.0, 0.0, 0.0]}]]"
      ]
     },
     "execution_count": 4,
     "metadata": {},
     "output_type": "execute_result"
    }
   ],
   "source": [
    "exame.addQuestion(23, 'MWE001')"
   ]
  },
  {
   "cell_type": "code",
   "execution_count": 5,
   "metadata": {},
   "outputs": [
    {
     "data": {
      "text/plain": [
       "[0.0, 0.0]"
      ]
     },
     "execution_count": 5,
     "metadata": {},
     "output_type": "execute_result"
    }
   ],
   "source": [
    "exame.setCorrection(1,['I', 'B'])\n",
    "exame.feedback"
   ]
  },
  {
   "cell_type": "code",
   "execution_count": 6,
   "metadata": {},
   "outputs": [
    {
     "name": "stdout",
     "output_type": "stream",
     "text": [
      "This is pdfTeX, Version 3.141592653-2.6-1.40.22 (TeX Live 2021/NixOS.org) (preloaded format=pdflatex)\n",
      " restricted \\write18 enabled.\n",
      "entering extended mode\n",
      "(./main.tex\n",
      "LaTeX2e <2021-11-15> patch level 1\n",
      "L3 programming layer <2022-02-24>\n",
      "(/nix/store/3zchnz1k9cyanrqvas3m31aic9y9wbw3-texlive-combined-full-2021-final/s\n",
      "hare/texmf/tex/latex/exam/exam.cls\n",
      "Document Class: exam 2021/02/26 Version 2.7 by Philip Hirschhorn\n",
      "\n",
      "(/nix/store/3zchnz1k9cyanrqvas3m31aic9y9wbw3-texlive-combined-full-2021-final/s\n",
      "hare/texmf/tex/latex/base/ifthen.sty)\n",
      "(/nix/store/3zchnz1k9cyanrqvas3m31aic9y9wbw3-texlive-combined-full-2021-final/s\n",
      "hare/texmf/tex/latex/base/article.cls\n",
      "Document Class: article 2021/10/04 v1.4n Standard LaTeX document class\n",
      "\n",
      "(/nix/store/3zchnz1k9cyanrqvas3m31aic9y9wbw3-texlive-combined-full-2021-final/s\n",
      "hare/texmf/tex/latex/base/size12.clo)))\n",
      "(/nix/store/3zchnz1k9cyanrqvas3m31aic9y9wbw3-texlive-combined-full-2021-final/s\n",
      "hare/texmf/tex/latex/base/inputenc.sty)\n",
      "(/nix/store/3zchnz1k9cyanrqvas3m31aic9y9wbw3-texlive-combined-full-2021-final/s\n",
      "hare/texmf/tex/generic/babel/babel.sty\n",
      "(/nix/store/3zchnz1k9cyanrqvas3m31aic9y9wbw3-texlive-combined-full-2021-final/s\n",
      "hare/texmf/tex/generic/babel/txtbabel.def)\n",
      "(/nix/store/3zchnz1k9cyanrqvas3m31aic9y9wbw3-texlive-combined-full-2021-final/s\n",
      "hare/texmf/tex/generic/babel-portuges/portuguese.ldf))\n",
      "(/nix/store/3zchnz1k9cyanrqvas3m31aic9y9wbw3-texlive-combined-full-2021-final/s\n",
      "hare/texmf/tex/latex/tools/multicol.sty)\n",
      "(/nix/store/3zchnz1k9cyanrqvas3m31aic9y9wbw3-texlive-combined-full-2021-final/s\n",
      "hare/texmf/tex/latex/graphics/graphicx.sty\n",
      "(/nix/store/3zchnz1k9cyanrqvas3m31aic9y9wbw3-texlive-combined-full-2021-final/s\n",
      "hare/texmf/tex/latex/graphics/keyval.sty)\n",
      "(/nix/store/3zchnz1k9cyanrqvas3m31aic9y9wbw3-texlive-combined-full-2021-final/s\n",
      "hare/texmf/tex/latex/graphics/graphics.sty\n",
      "(/nix/store/3zchnz1k9cyanrqvas3m31aic9y9wbw3-texlive-combined-full-2021-final/s\n",
      "hare/texmf/tex/latex/graphics/trig.sty)\n",
      "(/nix/store/3zchnz1k9cyanrqvas3m31aic9y9wbw3-texlive-combined-full-2021-final/s\n",
      "hare/texmf/tex/latex/graphics-cfg/graphics.cfg)\n",
      "(/nix/store/3zchnz1k9cyanrqvas3m31aic9y9wbw3-texlive-combined-full-2021-final/s\n",
      "hare/texmf/tex/latex/graphics-def/pdftex.def)))\n",
      "(/nix/store/3zchnz1k9cyanrqvas3m31aic9y9wbw3-texlive-combined-full-2021-final/s\n",
      "hare/texmf/tex/latex/amsmath/amsmath.sty\n",
      "For additional information on amsmath, use the `?' option.\n",
      "\n",
      "(/nix/store/3zchnz1k9cyanrqvas3m31aic9y9wbw3-texlive-combined-full-2021-final/s\n",
      "hare/texmf/tex/latex/amsmath/amstext.sty\n",
      "(/nix/store/3zchnz1k9cyanrqvas3m31aic9y9wbw3-texlive-combined-full-2021-final/s\n",
      "hare/texmf/tex/latex/amsmath/amsgen.sty))\n",
      "(/nix/store/3zchnz1k9cyanrqvas3m31aic9y9wbw3-texlive-combined-full-2021-final/s\n",
      "hare/texmf/tex/latex/amsmath/amsbsy.sty)\n",
      "(/nix/store/3zchnz1k9cyanrqvas3m31aic9y9wbw3-texlive-combined-full-2021-final/s\n",
      "hare/texmf/tex/latex/amsmath/amsopn.sty))\n",
      "(/nix/store/3zchnz1k9cyanrqvas3m31aic9y9wbw3-texlive-combined-full-2021-final/s\n",
      "hare/texmf/tex/latex/l3backend/l3backend-pdftex.def)\n",
      "No file main.aux.\n",
      "\n",
      "(/nix/store/3zchnz1k9cyanrqvas3m31aic9y9wbw3-texlive-combined-full-2021-final/s\n",
      "hare/texmf/tex/context/base/mkii/supp-pdf.mkii\n",
      "[Loading MPS to PDF converter (version 2006.09.02).]\n",
      ")\n",
      "(/nix/store/3zchnz1k9cyanrqvas3m31aic9y9wbw3-texlive-combined-full-2021-final/s\n",
      "hare/texmf/tex/latex/epstopdf-pkg/epstopdf-base.sty\n",
      "(/nix/store/3zchnz1k9cyanrqvas3m31aic9y9wbw3-texlive-combined-full-2021-final/s\n",
      "hare/texmf/tex/generic/infwarerr/infwarerr.sty)\n",
      "(/nix/store/3zchnz1k9cyanrqvas3m31aic9y9wbw3-texlive-combined-full-2021-final/s\n",
      "hare/texmf/tex/latex/grfext/grfext.sty\n",
      "(/nix/store/3zchnz1k9cyanrqvas3m31aic9y9wbw3-texlive-combined-full-2021-final/s\n",
      "hare/texmf/tex/generic/kvdefinekeys/kvdefinekeys.sty))\n",
      "(/nix/store/3zchnz1k9cyanrqvas3m31aic9y9wbw3-texlive-combined-full-2021-final/s\n",
      "hare/texmf/tex/latex/kvoptions/kvoptions.sty\n",
      "(/nix/store/3zchnz1k9cyanrqvas3m31aic9y9wbw3-texlive-combined-full-2021-final/s\n",
      "hare/texmf/tex/generic/ltxcmds/ltxcmds.sty)\n",
      "(/nix/store/3zchnz1k9cyanrqvas3m31aic9y9wbw3-texlive-combined-full-2021-final/s\n",
      "hare/texmf/tex/generic/kvsetkeys/kvsetkeys.sty))\n",
      "(/nix/store/3zchnz1k9cyanrqvas3m31aic9y9wbw3-texlive-combined-full-2021-final/s\n",
      "hare/texmf/tex/generic/pdftexcmds/pdftexcmds.sty\n",
      "(/nix/store/3zchnz1k9cyanrqvas3m31aic9y9wbw3-texlive-combined-full-2021-final/s\n",
      "hare/texmf/tex/generic/iftex/iftex.sty))\n",
      "(/nix/store/3zchnz1k9cyanrqvas3m31aic9y9wbw3-texlive-combined-full-2021-final/s\n",
      "hare/texmf/tex/latex/latexconfig/epstopdf-sys.cfg))\n",
      "Overfull \\hbox (20.2359pt too wide) in paragraph at lines 14--24\n",
      "[]$[]$ $[]$\n",
      "[1{/nix/store/3zchnz1k9cyanrqvas3m31aic9y9wbw3-texlive-combined-full-2021-final\n",
      "/share/texmf-var/fonts/map/pdftex/updmap/pdftex.map} <./MWE001.jpg>]\n",
      "Overfull \\hbox (20.2359pt too wide) in paragraph at lines 52--62\n",
      "[]$[]$ $[]$\n",
      "[2]\n",
      "This exam contains 4 questions with 0 parts, 0 subparts, and 0 subsubparts.\n",
      "This exam has a total of 112 points.\n",
      "This exam has a total of 0 bonus points.\n",
      "\n",
      "Class exam Warning: Point totals have changed. Rerun to get point totals right.\n",
      "\n",
      "\n",
      "(./main.aux)\n",
      "\n",
      "LaTeX Warning: Label(s) may have changed. Rerun to get cross-references right.\n",
      "\n",
      " )\n",
      "(see the transcript file for additional information)</nix/store/3zchnz1k9cyanrq\n",
      "vas3m31aic9y9wbw3-texlive-combined-full-2021-final/share/texmf/fonts/type1/publ\n",
      "ic/amsfonts/cm/cmbx12.pfb></nix/store/3zchnz1k9cyanrqvas3m31aic9y9wbw3-texlive-\n",
      "combined-full-2021-final/share/texmf/fonts/type1/public/amsfonts/cm/cmr12.pfb>\n",
      "Output written on main.pdf (2 pages, 49881 bytes).\n",
      "Transcript written on main.log.\n"
     ]
    }
   ],
   "source": [
    "exame.makeExam()"
   ]
  }
 ],
 "metadata": {
  "kernelspec": {
   "display_name": "Python 3.10.4 64-bit",
   "language": "python",
   "name": "python3"
  },
  "language_info": {
   "codemirror_mode": {
    "name": "ipython",
    "version": 3
   },
   "file_extension": ".py",
   "mimetype": "text/x-python",
   "name": "python",
   "nbconvert_exporter": "python",
   "pygments_lexer": "ipython3",
   "version": "3.10.4"
  },
  "orig_nbformat": 4,
  "vscode": {
   "interpreter": {
    "hash": "7808a3bb7ad42e5121cf53d9262afa4602c7ae7066cc0eaba1d0793744cb24e8"
   }
  }
 },
 "nbformat": 4,
 "nbformat_minor": 2
}
