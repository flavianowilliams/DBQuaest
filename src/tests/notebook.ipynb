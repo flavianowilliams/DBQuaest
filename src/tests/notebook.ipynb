{
 "cells": [
  {
   "cell_type": "code",
   "execution_count": 4,
   "metadata": {},
   "outputs": [
    {
     "ename": "ModuleNotFoundError",
     "evalue": "No module named 'dbquaest'",
     "output_type": "error",
     "traceback": [
      "\u001b[0;31m---------------------------------------------------------------------------\u001b[0m",
      "\u001b[0;31mModuleNotFoundError\u001b[0m                       Traceback (most recent call last)",
      "\u001b[1;32m/home/flaviano/Documentos/GitHub/DBQuaest/src/tests/notebook.ipynb Cell 1\u001b[0m in \u001b[0;36m<cell line: 1>\u001b[0;34m()\u001b[0m\n\u001b[0;32m----> <a href='vscode-notebook-cell:/home/flaviano/Documentos/GitHub/DBQuaest/src/tests/notebook.ipynb#ch0000000?line=0'>1</a>\u001b[0m \u001b[39mfrom\u001b[39;00m \u001b[39mdbquaest\u001b[39;00m\u001b[39m.\u001b[39;00m\u001b[39mmechanics\u001b[39;00m \u001b[39mimport\u001b[39;00m work_and_energy\n\u001b[1;32m      <a href='vscode-notebook-cell:/home/flaviano/Documentos/GitHub/DBQuaest/src/tests/notebook.ipynb#ch0000000?line=1'>2</a>\u001b[0m \u001b[39mfrom\u001b[39;00m \u001b[39mdbquaest\u001b[39;00m \u001b[39mimport\u001b[39;00m make_test\n",
      "\u001b[0;31mModuleNotFoundError\u001b[0m: No module named 'dbquaest'"
     ]
    }
   ],
   "source": [
    "from dbquaest.mechanics import work_and_energy\n",
    "from dbquaest import make_test"
   ]
  },
  {
   "cell_type": "code",
   "execution_count": null,
   "metadata": {},
   "outputs": [
    {
     "name": "stdout",
     "output_type": "stream",
     "text": [
      "{'text': 'Considere uma partícula de massa    8.19 kg e velocidade    3.54 m/s. Determine a sua energia cinética.', 'result': 51.40424079531622, 'error': [19.766882507766653, 258.3917515498696, 103.0042889144895, 500.8238571387872, 86.64251681922926, 194.97772380472648, 420.3639118751343, 263.67779101809396, 258.4735668764856]}\n"
     ]
    }
   ],
   "source": [
    "teste = work_and_energy.question('MWE001')\n",
    "print(teste)"
   ]
  },
  {
   "cell_type": "code",
   "execution_count": null,
   "metadata": {},
   "outputs": [
    {
     "name": "stdout",
     "output_type": "stream",
     "text": [
      "{'text': 'Considere uma partícula de massa    5.82 kg e velocidade    5.75 m/s. Determine a sua energia cinética.', 'result': 96.15522100375671, 'error': [247.0137434339151, 43.31984923744198, 201.78322174251298, 18.22901267388267, 490.6899869167299, 30.318827250277174, 22.52374457558546, 8.459911254810184, 193.7515297940407]}\n"
     ]
    }
   ],
   "source": [
    "teste2 = work_and_energy.Quest('MWE001')\n",
    "print(teste2.setQuestion())"
   ]
  },
  {
   "cell_type": "code",
   "execution_count": null,
   "metadata": {},
   "outputs": [
    {
     "name": "stdout",
     "output_type": "stream",
     "text": [
      "[{'text': 'Considere uma partícula de massa    7.16 kg e velocidade    7.96 m/s. Determine a sua energia cinética.', 'result': 226.6064081133347, 'error': [603.4354145961161, 462.12212736431906, 65.66802039689226, 356.44356413702525, 391.6456027205567, 28.851324987506572, 48.4538086762016, 218.4485403454138, 115.47883505521463]}, {'text': 'Considere uma partícula de massa    3.56 kg e velocidade    7.24 m/s. Determine a sua energia cinética.', 'result': 93.23216772679794, 'error': [40.28856230888352, 120.00949401444714, 38.315512888281134, 490.18505874863786, 304.9105123715917, 141.83340234144896, 13.569231648149339, 758.7578484616705, 209.32730948488702]}]\n"
     ]
    }
   ],
   "source": [
    "teste3 = make_test.Test(1, 2, 'MWE001')\n",
    "teste3.setQuestion()\n",
    "print(teste3.question_list)"
   ]
  }
 ],
 "metadata": {
  "kernelspec": {
   "display_name": "Python 3.10.4 64-bit",
   "language": "python",
   "name": "python3"
  },
  "language_info": {
   "codemirror_mode": {
    "name": "ipython",
    "version": 3
   },
   "file_extension": ".py",
   "mimetype": "text/x-python",
   "name": "python",
   "nbconvert_exporter": "python",
   "pygments_lexer": "ipython3",
   "version": "3.10.4"
  },
  "orig_nbformat": 4,
  "vscode": {
   "interpreter": {
    "hash": "7808a3bb7ad42e5121cf53d9262afa4602c7ae7066cc0eaba1d0793744cb24e8"
   }
  }
 },
 "nbformat": 4,
 "nbformat_minor": 2
}
