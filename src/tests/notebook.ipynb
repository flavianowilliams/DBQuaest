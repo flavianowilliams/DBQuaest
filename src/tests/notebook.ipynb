{
 "cells": [
  {
   "cell_type": "code",
   "execution_count": 1,
   "metadata": {},
   "outputs": [],
   "source": [
    "from dbquaest import make_test"
   ]
  },
  {
   "cell_type": "code",
   "execution_count": 2,
   "metadata": {},
   "outputs": [],
   "source": [
    "exame = make_test.Test(1, 2)"
   ]
  },
  {
   "cell_type": "code",
   "execution_count": 3,
   "metadata": {},
   "outputs": [
    {
     "data": {
      "text/plain": [
       "[[{'text': 'Considere uma partícula de massa    5.72 kg e velocidade    1.70 m/s. Determine a sua energia cinética.',\n",
       "   'alternative': ['4.87',\n",
       "    '8.27',\n",
       "    '25.74',\n",
       "    '60.34',\n",
       "    '66.11',\n",
       "    '139.58',\n",
       "    '160.13',\n",
       "    '230.73',\n",
       "    '386.82',\n",
       "    '798.99']},\n",
       "  {'text': 'Considere uma partícula de massa    5.61 kg e velocidade    7.66 m/s. Determine a sua energia cinética.',\n",
       "   'alternative': ['10.42',\n",
       "    '46.26',\n",
       "    '55.8',\n",
       "    '77.06',\n",
       "    '79.46',\n",
       "    '119.59',\n",
       "    '137.09',\n",
       "    '164.8',\n",
       "    '205.95',\n",
       "    '355.88']}]]"
      ]
     },
     "execution_count": 3,
     "metadata": {},
     "output_type": "execute_result"
    }
   ],
   "source": [
    "exame.addQuestion('MWE001')"
   ]
  },
  {
   "cell_type": "code",
   "execution_count": 4,
   "metadata": {},
   "outputs": [
    {
     "data": {
      "text/plain": [
       "[[{'text': 'Considere uma partícula de massa    5.72 kg e velocidade    1.70 m/s. Determine a sua energia cinética.',\n",
       "   'alternative': ['4.87',\n",
       "    '8.27',\n",
       "    '25.74',\n",
       "    '60.34',\n",
       "    '66.11',\n",
       "    '139.58',\n",
       "    '160.13',\n",
       "    '230.73',\n",
       "    '386.82',\n",
       "    '798.99']},\n",
       "  {'text': 'Considere uma partícula de massa    5.61 kg e velocidade    7.66 m/s. Determine a sua energia cinética.',\n",
       "   'alternative': ['10.42',\n",
       "    '46.26',\n",
       "    '55.8',\n",
       "    '77.06',\n",
       "    '79.46',\n",
       "    '119.59',\n",
       "    '137.09',\n",
       "    '164.8',\n",
       "    '205.95',\n",
       "    '355.88']}],\n",
       " [{'text': 'Durante sua trajetória uma partícula realizou um trabalho de   -8.01. Qual foi a variação da sua energia cinética?',\n",
       "   'alternative': ['-8.5',\n",
       "    '-8.01',\n",
       "    '-6.68',\n",
       "    '-3.77',\n",
       "    '-3.16',\n",
       "    '-1.8',\n",
       "    '-1.45',\n",
       "    '-0.19',\n",
       "    '2.5',\n",
       "    '6.84']},\n",
       "  {'text': 'Durante sua trajetória uma partícula realizou um trabalho de   -8.00. Qual foi a variação da sua energia cinética?',\n",
       "   'alternative': ['-9.97',\n",
       "    '-9.78',\n",
       "    '-9.47',\n",
       "    '-8.0',\n",
       "    '-6.71',\n",
       "    '-1.64',\n",
       "    '0.36',\n",
       "    '2.31',\n",
       "    '5.21',\n",
       "    '9.07']}]]"
      ]
     },
     "execution_count": 4,
     "metadata": {},
     "output_type": "execute_result"
    }
   ],
   "source": [
    "exame.addQuestion('MWE002')"
   ]
  },
  {
   "cell_type": "code",
   "execution_count": 5,
   "metadata": {},
   "outputs": [
    {
     "name": "stdout",
     "output_type": "stream",
     "text": [
      "This is pdfTeX, Version 3.141592653-2.6-1.40.22 (TeX Live 2021/NixOS.org) (preloaded format=pdflatex)\n",
      " restricted \\write18 enabled.\n",
      "entering extended mode\n",
      "(./main.tex\n",
      "LaTeX2e <2021-11-15> patch level 1\n",
      "L3 programming layer <2022-02-24>\n",
      "(/nix/store/3zchnz1k9cyanrqvas3m31aic9y9wbw3-texlive-combined-full-2021-final/s\n",
      "hare/texmf/tex/latex/exam/exam.cls\n",
      "Document Class: exam 2021/02/26 Version 2.7 by Philip Hirschhorn\n",
      "\n",
      "(/nix/store/3zchnz1k9cyanrqvas3m31aic9y9wbw3-texlive-combined-full-2021-final/s\n",
      "hare/texmf/tex/latex/base/ifthen.sty)\n",
      "(/nix/store/3zchnz1k9cyanrqvas3m31aic9y9wbw3-texlive-combined-full-2021-final/s\n",
      "hare/texmf/tex/latex/base/article.cls\n",
      "Document Class: article 2021/10/04 v1.4n Standard LaTeX document class\n",
      "\n",
      "(/nix/store/3zchnz1k9cyanrqvas3m31aic9y9wbw3-texlive-combined-full-2021-final/s\n",
      "hare/texmf/tex/latex/base/size10.clo)))\n",
      "(/nix/store/3zchnz1k9cyanrqvas3m31aic9y9wbw3-texlive-combined-full-2021-final/s\n",
      "hare/texmf/tex/latex/base/inputenc.sty)\n",
      "(/nix/store/3zchnz1k9cyanrqvas3m31aic9y9wbw3-texlive-combined-full-2021-final/s\n",
      "hare/texmf/tex/generic/babel/babel.sty\n",
      "(/nix/store/3zchnz1k9cyanrqvas3m31aic9y9wbw3-texlive-combined-full-2021-final/s\n",
      "hare/texmf/tex/generic/babel/txtbabel.def)\n",
      "(/nix/store/3zchnz1k9cyanrqvas3m31aic9y9wbw3-texlive-combined-full-2021-final/s\n",
      "hare/texmf/tex/generic/babel-portuges/portuguese.ldf))\n",
      "(/nix/store/3zchnz1k9cyanrqvas3m31aic9y9wbw3-texlive-combined-full-2021-final/s\n",
      "hare/texmf/tex/latex/l3backend/l3backend-pdftex.def) (./main.aux\n",
      "\n",
      "LaTeX Warning: Label `question@1' multiply defined.\n",
      "\n",
      "\n",
      "LaTeX Warning: Label `question@2' multiply defined.\n",
      "\n",
      ")\n",
      "Underfull \\hbox (badness 10000) in paragraph at lines 16--20\n",
      "\\OT1/cmr/m/n/10 cin^^Setica.\n",
      "\n",
      "Underfull \\hbox (badness 10000) in paragraph at lines 16--20\n",
      "\n",
      "\n",
      "Underfull \\hbox (badness 10000) in paragraph at lines 20--24\n",
      "\\OT1/cmr/m/n/10 sua ener-gia cin^^Setica?\n",
      "\n",
      "Underfull \\hbox (badness 10000) in paragraph at lines 20--24\n",
      "\n",
      "[1{/nix/store/3zchnz1k9cyanrqvas3m31aic9y9wbw3-texlive-combined-full-2021-final\n",
      "/share/texmf-var/fonts/map/pdftex/updmap/pdftex.map}]\n",
      "Underfull \\hbox (badness 10000) in paragraph at lines 33--37\n",
      "\\OT1/cmr/m/n/10 cin^^Setica.\n",
      "\n",
      "Underfull \\hbox (badness 10000) in paragraph at lines 33--37\n",
      "\n",
      "\n",
      "Underfull \\hbox (badness 10000) in paragraph at lines 37--41\n",
      "\\OT1/cmr/m/n/10 sua ener-gia cin^^Setica?\n",
      "\n",
      "Underfull \\hbox (badness 10000) in paragraph at lines 37--41\n",
      "\n",
      "[2]\n",
      "This exam contains 4 questions with 0 parts, 0 subparts, and 0 subsubparts.\n",
      "This exam has a total of 100 points.\n",
      "This exam has a total of 0 bonus points.\n",
      "(./main.aux)\n",
      "\n",
      "LaTeX Warning: There were multiply-defined labels.\n",
      "\n",
      " )\n",
      "(see the transcript file for additional information)</nix/store/3zchnz1k9cyanrq\n",
      "vas3m31aic9y9wbw3-texlive-combined-full-2021-final/share/texmf/fonts/type1/publ\n",
      "ic/amsfonts/cm/cmbx12.pfb></nix/store/3zchnz1k9cyanrqvas3m31aic9y9wbw3-texlive-\n",
      "combined-full-2021-final/share/texmf/fonts/type1/public/amsfonts/cm/cmr10.pfb>\n",
      "Output written on main.pdf (2 pages, 32870 bytes).\n",
      "Transcript written on main.log.\n"
     ]
    }
   ],
   "source": [
    "exame.setPDF()"
   ]
  },
  {
   "cell_type": "code",
   "execution_count": 6,
   "metadata": {},
   "outputs": [
    {
     "data": {
      "text/plain": [
       "[[{'text': 'Considere uma partícula de massa    5.72 kg e velocidade    1.70 m/s. Determine a sua energia cinética.',\n",
       "   'alternative': ['4.87',\n",
       "    '8.27',\n",
       "    '25.74',\n",
       "    '60.34',\n",
       "    '66.11',\n",
       "    '139.58',\n",
       "    '160.13',\n",
       "    '230.73',\n",
       "    '386.82',\n",
       "    '798.99']},\n",
       "  {'text': 'Considere uma partícula de massa    5.61 kg e velocidade    7.66 m/s. Determine a sua energia cinética.',\n",
       "   'alternative': ['10.42',\n",
       "    '46.26',\n",
       "    '55.8',\n",
       "    '77.06',\n",
       "    '79.46',\n",
       "    '119.59',\n",
       "    '137.09',\n",
       "    '164.8',\n",
       "    '205.95',\n",
       "    '355.88']}],\n",
       " [{'text': 'Durante sua trajetória uma partícula realizou um trabalho de   -8.01. Qual foi a variação da sua energia cinética?',\n",
       "   'alternative': ['-8.5',\n",
       "    '-8.01',\n",
       "    '-6.68',\n",
       "    '-3.77',\n",
       "    '-3.16',\n",
       "    '-1.8',\n",
       "    '-1.45',\n",
       "    '-0.19',\n",
       "    '2.5',\n",
       "    '6.84']},\n",
       "  {'text': 'Durante sua trajetória uma partícula realizou um trabalho de   -8.00. Qual foi a variação da sua energia cinética?',\n",
       "   'alternative': ['-9.97',\n",
       "    '-9.78',\n",
       "    '-9.47',\n",
       "    '-8.0',\n",
       "    '-6.71',\n",
       "    '-1.64',\n",
       "    '0.36',\n",
       "    '2.31',\n",
       "    '5.21',\n",
       "    '9.07']}]]"
      ]
     },
     "execution_count": 6,
     "metadata": {},
     "output_type": "execute_result"
    }
   ],
   "source": [
    "exame.question_list"
   ]
  }
 ],
 "metadata": {
  "kernelspec": {
   "display_name": "Python 3.10.4 64-bit",
   "language": "python",
   "name": "python3"
  },
  "language_info": {
   "codemirror_mode": {
    "name": "ipython",
    "version": 3
   },
   "file_extension": ".py",
   "mimetype": "text/x-python",
   "name": "python",
   "nbconvert_exporter": "python",
   "pygments_lexer": "ipython3",
   "version": "3.10.4"
  },
  "orig_nbformat": 4,
  "vscode": {
   "interpreter": {
    "hash": "7808a3bb7ad42e5121cf53d9262afa4602c7ae7066cc0eaba1d0793744cb24e8"
   }
  }
 },
 "nbformat": 4,
 "nbformat_minor": 2
}
