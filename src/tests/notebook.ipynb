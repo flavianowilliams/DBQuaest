{
 "cells": [
  {
   "cell_type": "code",
   "execution_count": 1,
   "metadata": {},
   "outputs": [],
   "source": [
    "from dbquaest import exam"
   ]
  },
  {
   "cell_type": "code",
   "execution_count": 2,
   "metadata": {},
   "outputs": [],
   "source": [
    "exame = exam.Test(2)"
   ]
  },
  {
   "cell_type": "code",
   "execution_count": 3,
   "metadata": {},
   "outputs": [
    {
     "data": {
      "text/plain": [
       "[[{'code': 'MWE002',\n",
       "   'test': 0,\n",
       "   'text': 'Durante sua trajetória uma partícula realizou um trabalho de    5.95 J. Qual foi a variação da sua energia cinética?',\n",
       "   'figure': '',\n",
       "   'alternative': ['1.83 J',\n",
       "    '1.4 J',\n",
       "    '-4.97 J',\n",
       "    '-5.34 J',\n",
       "    '-0.25 J',\n",
       "    '-4.08 J',\n",
       "    '7.46 J',\n",
       "    '-7.53 J',\n",
       "    '4.34 J',\n",
       "    '5.95 J'],\n",
       "   'result': [0.0, 0.0, 0.0, 0.0, 0.0, 0.0, 0.0, 0.0, 0.0, 33]},\n",
       "  {'code': 'MWE002',\n",
       "   'test': 1,\n",
       "   'text': 'Durante sua trajetória uma partícula realizou um trabalho de    9.39 J. Qual foi a variação da sua energia cinética?',\n",
       "   'figure': '',\n",
       "   'alternative': ['2.83 J',\n",
       "    '5.06 J',\n",
       "    '9.39 J',\n",
       "    '3.24 J',\n",
       "    '-8.75 J',\n",
       "    '5.2 J',\n",
       "    '6.38 J',\n",
       "    '-2.7 J',\n",
       "    '-3.82 J',\n",
       "    '-2.41 J'],\n",
       "   'result': [0.0, 0.0, 33, 0.0, 0.0, 0.0, 0.0, 0.0, 0.0, 0.0]}]]"
      ]
     },
     "execution_count": 3,
     "metadata": {},
     "output_type": "execute_result"
    }
   ],
   "source": [
    "exame.addQuestion(33, 'MWE002')"
   ]
  },
  {
   "cell_type": "code",
   "execution_count": 4,
   "metadata": {},
   "outputs": [
    {
     "data": {
      "text/plain": [
       "[[{'code': 'MWE002',\n",
       "   'test': 0,\n",
       "   'text': 'Durante sua trajetória uma partícula realizou um trabalho de    5.95 J. Qual foi a variação da sua energia cinética?',\n",
       "   'figure': '',\n",
       "   'alternative': ['1.83 J',\n",
       "    '1.4 J',\n",
       "    '-4.97 J',\n",
       "    '-5.34 J',\n",
       "    '-0.25 J',\n",
       "    '-4.08 J',\n",
       "    '7.46 J',\n",
       "    '-7.53 J',\n",
       "    '4.34 J',\n",
       "    '5.95 J'],\n",
       "   'result': [0.0, 0.0, 0.0, 0.0, 0.0, 0.0, 0.0, 0.0, 0.0, 33]},\n",
       "  {'code': 'MWE002',\n",
       "   'test': 1,\n",
       "   'text': 'Durante sua trajetória uma partícula realizou um trabalho de    9.39 J. Qual foi a variação da sua energia cinética?',\n",
       "   'figure': '',\n",
       "   'alternative': ['2.83 J',\n",
       "    '5.06 J',\n",
       "    '9.39 J',\n",
       "    '3.24 J',\n",
       "    '-8.75 J',\n",
       "    '5.2 J',\n",
       "    '6.38 J',\n",
       "    '-2.7 J',\n",
       "    '-3.82 J',\n",
       "    '-2.41 J'],\n",
       "   'result': [0.0, 0.0, 33, 0.0, 0.0, 0.0, 0.0, 0.0, 0.0, 0.0]}],\n",
       " [{'code': 'MWE001',\n",
       "   'test': 0,\n",
       "   'text': 'Considere uma partícula de massa    8.84 kg e velocidade    5.84 m/s. Determine a sua energia cinética.',\n",
       "   'figure': 'MWE001',\n",
       "   'alternative': ['109.62 J',\n",
       "    '150.56 J',\n",
       "    '435.77 J',\n",
       "    '8.55 J',\n",
       "    '41.68 J',\n",
       "    '236.26 J',\n",
       "    '390.66 J',\n",
       "    '152.16 J',\n",
       "    '354.39 J',\n",
       "    '43.42 J'],\n",
       "   'result': [0.0, 23, 0.0, 0.0, 0.0, 0.0, 0.0, 0.0, 0.0, 0.0]},\n",
       "  {'code': 'MWE001',\n",
       "   'test': 1,\n",
       "   'text': 'Considere uma partícula de massa    9.74 kg e velocidade    6.73 m/s. Determine a sua energia cinética.',\n",
       "   'figure': 'MWE001',\n",
       "   'alternative': ['44.14 J',\n",
       "    '220.67 J',\n",
       "    '23.55 J',\n",
       "    '216.24 J',\n",
       "    '31.68 J',\n",
       "    '178.91 J',\n",
       "    '94.73 J',\n",
       "    '441.83 J',\n",
       "    '210.11 J',\n",
       "    '65.22 J'],\n",
       "   'result': [0.0, 23, 0.0, 0.0, 0.0, 0.0, 0.0, 0.0, 0.0, 0.0]}]]"
      ]
     },
     "execution_count": 4,
     "metadata": {},
     "output_type": "execute_result"
    }
   ],
   "source": [
    "exame.addQuestion(23, 'MWE001')"
   ]
  },
  {
   "cell_type": "code",
   "execution_count": 5,
   "metadata": {},
   "outputs": [
    {
     "data": {
      "text/plain": [
       "[0.0, 23]"
      ]
     },
     "execution_count": 5,
     "metadata": {},
     "output_type": "execute_result"
    }
   ],
   "source": [
    "exame.setCorrection(1,['I', 'B'])\n",
    "exame.feedback"
   ]
  },
  {
   "cell_type": "code",
   "execution_count": 6,
   "metadata": {},
   "outputs": [
    {
     "name": "stdout",
     "output_type": "stream",
     "text": [
      "This is pdfTeX, Version 3.141592653-2.6-1.40.22 (TeX Live 2021/NixOS.org) (preloaded format=pdflatex)\n",
      " restricted \\write18 enabled.\n",
      "entering extended mode\n",
      "(./main.tex\n",
      "LaTeX2e <2021-11-15> patch level 1\n",
      "L3 programming layer <2022-02-24>\n",
      "(/nix/store/3zchnz1k9cyanrqvas3m31aic9y9wbw3-texlive-combined-full-2021-final/s\n",
      "hare/texmf/tex/latex/exam/exam.cls\n",
      "Document Class: exam 2021/02/26 Version 2.7 by Philip Hirschhorn\n",
      "\n",
      "(/nix/store/3zchnz1k9cyanrqvas3m31aic9y9wbw3-texlive-combined-full-2021-final/s\n",
      "hare/texmf/tex/latex/base/ifthen.sty)\n",
      "(/nix/store/3zchnz1k9cyanrqvas3m31aic9y9wbw3-texlive-combined-full-2021-final/s\n",
      "hare/texmf/tex/latex/base/article.cls\n",
      "Document Class: article 2021/10/04 v1.4n Standard LaTeX document class\n",
      "\n",
      "(/nix/store/3zchnz1k9cyanrqvas3m31aic9y9wbw3-texlive-combined-full-2021-final/s\n",
      "hare/texmf/tex/latex/base/size10.clo)))\n",
      "(/nix/store/3zchnz1k9cyanrqvas3m31aic9y9wbw3-texlive-combined-full-2021-final/s\n",
      "hare/texmf/tex/latex/base/inputenc.sty)\n",
      "(/nix/store/3zchnz1k9cyanrqvas3m31aic9y9wbw3-texlive-combined-full-2021-final/s\n",
      "hare/texmf/tex/generic/babel/babel.sty\n",
      "(/nix/store/3zchnz1k9cyanrqvas3m31aic9y9wbw3-texlive-combined-full-2021-final/s\n",
      "hare/texmf/tex/generic/babel/txtbabel.def)\n",
      "(/nix/store/3zchnz1k9cyanrqvas3m31aic9y9wbw3-texlive-combined-full-2021-final/s\n",
      "hare/texmf/tex/generic/babel-portuges/portuguese.ldf))\n",
      "(/nix/store/3zchnz1k9cyanrqvas3m31aic9y9wbw3-texlive-combined-full-2021-final/s\n",
      "hare/texmf/tex/latex/tools/multicol.sty)\n",
      "(/nix/store/3zchnz1k9cyanrqvas3m31aic9y9wbw3-texlive-combined-full-2021-final/s\n",
      "hare/texmf/tex/latex/graphics/graphicx.sty\n",
      "(/nix/store/3zchnz1k9cyanrqvas3m31aic9y9wbw3-texlive-combined-full-2021-final/s\n",
      "hare/texmf/tex/latex/graphics/keyval.sty)\n",
      "(/nix/store/3zchnz1k9cyanrqvas3m31aic9y9wbw3-texlive-combined-full-2021-final/s\n",
      "hare/texmf/tex/latex/graphics/graphics.sty\n",
      "(/nix/store/3zchnz1k9cyanrqvas3m31aic9y9wbw3-texlive-combined-full-2021-final/s\n",
      "hare/texmf/tex/latex/graphics/trig.sty)\n",
      "(/nix/store/3zchnz1k9cyanrqvas3m31aic9y9wbw3-texlive-combined-full-2021-final/s\n",
      "hare/texmf/tex/latex/graphics-cfg/graphics.cfg)\n",
      "(/nix/store/3zchnz1k9cyanrqvas3m31aic9y9wbw3-texlive-combined-full-2021-final/s\n",
      "hare/texmf/tex/latex/graphics-def/pdftex.def)))\n",
      "(/nix/store/3zchnz1k9cyanrqvas3m31aic9y9wbw3-texlive-combined-full-2021-final/s\n",
      "hare/texmf/tex/latex/l3backend/l3backend-pdftex.def)\n",
      "No file main.aux.\n",
      "\n",
      "(/nix/store/3zchnz1k9cyanrqvas3m31aic9y9wbw3-texlive-combined-full-2021-final/s\n",
      "hare/texmf/tex/context/base/mkii/supp-pdf.mkii\n",
      "[Loading MPS to PDF converter (version 2006.09.02).]\n",
      ")\n",
      "(/nix/store/3zchnz1k9cyanrqvas3m31aic9y9wbw3-texlive-combined-full-2021-final/s\n",
      "hare/texmf/tex/latex/epstopdf-pkg/epstopdf-base.sty\n",
      "(/nix/store/3zchnz1k9cyanrqvas3m31aic9y9wbw3-texlive-combined-full-2021-final/s\n",
      "hare/texmf/tex/latex/latexconfig/epstopdf-sys.cfg)) [1{/nix/store/3zchnz1k9cyan\n",
      "rqvas3m31aic9y9wbw3-texlive-combined-full-2021-final/share/texmf-var/fonts/map/\n",
      "pdftex/updmap/pdftex.map} <./MWE001.jpg>] [2]\n",
      "This exam contains 4 questions with 0 parts, 0 subparts, and 0 subsubparts.\n",
      "This exam has a total of 112 points.\n",
      "This exam has a total of 0 bonus points.\n",
      "\n",
      "Class exam Warning: Point totals have changed. Rerun to get point totals right.\n",
      "\n",
      "\n",
      "(./main.aux)\n",
      "\n",
      "LaTeX Warning: Label(s) may have changed. Rerun to get cross-references right.\n",
      "\n",
      " )</nix/store/3zchnz1k9cyanrqvas3m31aic9y9wbw3-texlive-combined-full-2021-final\n",
      "/share/texmf/fonts/type1/public/amsfonts/cm/cmbx12.pfb></nix/store/3zchnz1k9cya\n",
      "nrqvas3m31aic9y9wbw3-texlive-combined-full-2021-final/share/texmf/fonts/type1/p\n",
      "ublic/amsfonts/cm/cmr10.pfb>\n",
      "Output written on main.pdf (2 pages, 51282 bytes).\n",
      "Transcript written on main.log.\n"
     ]
    }
   ],
   "source": [
    "exame.makeExam()"
   ]
  }
 ],
 "metadata": {
  "kernelspec": {
   "display_name": "Python 3.10.4 64-bit",
   "language": "python",
   "name": "python3"
  },
  "language_info": {
   "codemirror_mode": {
    "name": "ipython",
    "version": 3
   },
   "file_extension": ".py",
   "mimetype": "text/x-python",
   "name": "python",
   "nbconvert_exporter": "python",
   "pygments_lexer": "ipython3",
   "version": "3.10.4"
  },
  "orig_nbformat": 4,
  "vscode": {
   "interpreter": {
    "hash": "7808a3bb7ad42e5121cf53d9262afa4602c7ae7066cc0eaba1d0793744cb24e8"
   }
  }
 },
 "nbformat": 4,
 "nbformat_minor": 2
}
