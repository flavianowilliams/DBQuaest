{
 "cells": [
  {
   "cell_type": "code",
   "execution_count": 1,
   "metadata": {},
   "outputs": [],
   "source": [
    "from dbquaest import exam\n",
    "import datetime"
   ]
  },
  {
   "cell_type": "code",
   "execution_count": 2,
   "metadata": {},
   "outputs": [],
   "source": [
    "exame = exam.test(2, datetime.date.today)"
   ]
  },
  {
   "cell_type": "code",
   "execution_count": 3,
   "metadata": {},
   "outputs": [
    {
     "data": {
      "text/plain": [
       "[[{'code': 'MWE002',\n",
       "   'test': 0,\n",
       "   'text': '\\n            Durante sua trajetória uma partícula realizou um trabalho de   -3.28 J. Qual foi a variação da sua energia cinética?\\n        ',\n",
       "   'figure': '',\n",
       "   'alternative': ['-3.15 J',\n",
       "    '-6.42 J',\n",
       "    '6.5 J',\n",
       "    '-3.28 J',\n",
       "    '-5.08 J',\n",
       "    '4.99 J',\n",
       "    '-7.6 J',\n",
       "    '-1.72 J',\n",
       "    '-0.08 J',\n",
       "    '2.9 J'],\n",
       "   'result': [0.0, 0.0, 0.0, 33, 0.0, 0.0, 0.0, 0.0, 0.0, 0.0]},\n",
       "  {'code': 'MWE002',\n",
       "   'test': 1,\n",
       "   'text': '\\n            Durante sua trajetória uma partícula realizou um trabalho de    6.10 J. Qual foi a variação da sua energia cinética?\\n        ',\n",
       "   'figure': '',\n",
       "   'alternative': ['6.1 J',\n",
       "    '0.21 J',\n",
       "    '6.07 J',\n",
       "    '-1.73 J',\n",
       "    '1.27 J',\n",
       "    '-6.31 J',\n",
       "    '7.28 J',\n",
       "    '-2.7 J',\n",
       "    '-7.88 J',\n",
       "    '8.63 J'],\n",
       "   'result': [33, 0.0, 0.0, 0.0, 0.0, 0.0, 0.0, 0.0, 0.0, 0.0]}]]"
      ]
     },
     "execution_count": 3,
     "metadata": {},
     "output_type": "execute_result"
    }
   ],
   "source": [
    "exame.add_question(33, 'MWE002')"
   ]
  },
  {
   "cell_type": "code",
   "execution_count": 4,
   "metadata": {},
   "outputs": [
    {
     "data": {
      "text/plain": [
       "[[{'code': 'MWE002',\n",
       "   'test': 0,\n",
       "   'text': '\\n            Durante sua trajetória uma partícula realizou um trabalho de   -3.28 J. Qual foi a variação da sua energia cinética?\\n        ',\n",
       "   'figure': '',\n",
       "   'alternative': ['-3.15 J',\n",
       "    '-6.42 J',\n",
       "    '6.5 J',\n",
       "    '-3.28 J',\n",
       "    '-5.08 J',\n",
       "    '4.99 J',\n",
       "    '-7.6 J',\n",
       "    '-1.72 J',\n",
       "    '-0.08 J',\n",
       "    '2.9 J'],\n",
       "   'result': [0.0, 0.0, 0.0, 33, 0.0, 0.0, 0.0, 0.0, 0.0, 0.0]},\n",
       "  {'code': 'MWE002',\n",
       "   'test': 1,\n",
       "   'text': '\\n            Durante sua trajetória uma partícula realizou um trabalho de    6.10 J. Qual foi a variação da sua energia cinética?\\n        ',\n",
       "   'figure': '',\n",
       "   'alternative': ['6.1 J',\n",
       "    '0.21 J',\n",
       "    '6.07 J',\n",
       "    '-1.73 J',\n",
       "    '1.27 J',\n",
       "    '-6.31 J',\n",
       "    '7.28 J',\n",
       "    '-2.7 J',\n",
       "    '-7.88 J',\n",
       "    '8.63 J'],\n",
       "   'result': [33, 0.0, 0.0, 0.0, 0.0, 0.0, 0.0, 0.0, 0.0, 0.0]}],\n",
       " [{'code': 'MWE001',\n",
       "   'test': 0,\n",
       "   'text': '\\n            Considere uma partícula de massa    5.05 kg e velocidade    2.23 m/s. Determine a sua energia cinética.\\n        ',\n",
       "   'figure': 'MWE001',\n",
       "   'alternative': ['61.03 J',\n",
       "    '104.68 J',\n",
       "    '284.54 J',\n",
       "    '325.69 J',\n",
       "    '40.67 J',\n",
       "    '33.77 J',\n",
       "    '7.85 J',\n",
       "    '12.59 J',\n",
       "    '36.84 J',\n",
       "    '54.33 J'],\n",
       "   'result': [0.0, 0.0, 0.0, 0.0, 0.0, 0.0, 0.0, 23, 0.0, 0.0]},\n",
       "  {'code': 'MWE001',\n",
       "   'test': 1,\n",
       "   'text': '\\n            Considere uma partícula de massa    8.79 kg e velocidade    7.09 m/s. Determine a sua energia cinética.\\n        ',\n",
       "   'figure': 'MWE001',\n",
       "   'alternative': ['801.15 J',\n",
       "    '445.18 J',\n",
       "    '39.29 J',\n",
       "    '100.3 J',\n",
       "    '137.27 J',\n",
       "    '330.75 J',\n",
       "    '220.81 J',\n",
       "    '31.7 J',\n",
       "    '101.66 J',\n",
       "    '26.88 J'],\n",
       "   'result': [0.0, 0.0, 0.0, 0.0, 0.0, 0.0, 23, 0.0, 0.0, 0.0]}]]"
      ]
     },
     "execution_count": 4,
     "metadata": {},
     "output_type": "execute_result"
    }
   ],
   "source": [
    "exame.add_question(23, 'MWE001')"
   ]
  },
  {
   "cell_type": "code",
   "execution_count": 5,
   "metadata": {},
   "outputs": [
    {
     "data": {
      "text/plain": [
       "[0.0, 0.0]"
      ]
     },
     "execution_count": 5,
     "metadata": {},
     "output_type": "execute_result"
    }
   ],
   "source": [
    "exame.set_correction(1,['I', 'B'])\n",
    "exame.feedback"
   ]
  },
  {
   "cell_type": "code",
   "execution_count": 6,
   "metadata": {},
   "outputs": [
    {
     "name": "stdout",
     "output_type": "stream",
     "text": [
      "/home/flaviano/Documentos/GitHub/DBQuaest\n"
     ]
    }
   ],
   "source": [
    "from dbquaest import settings\n",
    "print(settings.BASE_DIR)"
   ]
  },
  {
   "cell_type": "code",
   "execution_count": 7,
   "metadata": {},
   "outputs": [
    {
     "name": "stdout",
     "output_type": "stream",
     "text": [
      "This is pdfTeX, Version 3.141592653-2.6-1.40.22 (TeX Live 2021/NixOS.org) (preloaded format=pdflatex)\n",
      " restricted \\write18 enabled.\n",
      "entering extended mode\n",
      "(./main.tex\n",
      "LaTeX2e <2021-11-15> patch level 1\n",
      "L3 programming layer <2022-02-24>\n",
      "(/nix/store/3zchnz1k9cyanrqvas3m31aic9y9wbw3-texlive-combined-full-2021-final/s\n",
      "hare/texmf/tex/latex/exam/exam.cls\n",
      "Document Class: exam 2021/02/26 Version 2.7 by Philip Hirschhorn\n",
      "\n",
      "(/nix/store/3zchnz1k9cyanrqvas3m31aic9y9wbw3-texlive-combined-full-2021-final/s\n",
      "hare/texmf/tex/latex/base/ifthen.sty)\n",
      "(/nix/store/3zchnz1k9cyanrqvas3m31aic9y9wbw3-texlive-combined-full-2021-final/s\n",
      "hare/texmf/tex/latex/base/article.cls\n",
      "Document Class: article 2021/10/04 v1.4n Standard LaTeX document class\n",
      "\n",
      "(/nix/store/3zchnz1k9cyanrqvas3m31aic9y9wbw3-texlive-combined-full-2021-final/s\n",
      "hare/texmf/tex/latex/base/size12.clo)))\n",
      "(/nix/store/3zchnz1k9cyanrqvas3m31aic9y9wbw3-texlive-combined-full-2021-final/s\n",
      "hare/texmf/tex/latex/base/inputenc.sty)\n",
      "(/nix/store/3zchnz1k9cyanrqvas3m31aic9y9wbw3-texlive-combined-full-2021-final/s\n",
      "hare/texmf/tex/generic/babel/babel.sty\n",
      "(/nix/store/3zchnz1k9cyanrqvas3m31aic9y9wbw3-texlive-combined-full-2021-final/s\n",
      "hare/texmf/tex/generic/babel/txtbabel.def)\n",
      "(/nix/store/3zchnz1k9cyanrqvas3m31aic9y9wbw3-texlive-combined-full-2021-final/s\n",
      "hare/texmf/tex/generic/babel-portuges/portuguese.ldf))\n",
      "(/nix/store/3zchnz1k9cyanrqvas3m31aic9y9wbw3-texlive-combined-full-2021-final/s\n",
      "hare/texmf/tex/latex/tools/multicol.sty)\n",
      "(/nix/store/3zchnz1k9cyanrqvas3m31aic9y9wbw3-texlive-combined-full-2021-final/s\n",
      "hare/texmf/tex/latex/graphics/graphicx.sty\n",
      "(/nix/store/3zchnz1k9cyanrqvas3m31aic9y9wbw3-texlive-combined-full-2021-final/s\n",
      "hare/texmf/tex/latex/graphics/keyval.sty)\n",
      "(/nix/store/3zchnz1k9cyanrqvas3m31aic9y9wbw3-texlive-combined-full-2021-final/s\n",
      "hare/texmf/tex/latex/graphics/graphics.sty\n",
      "(/nix/store/3zchnz1k9cyanrqvas3m31aic9y9wbw3-texlive-combined-full-2021-final/s\n",
      "hare/texmf/tex/latex/graphics/trig.sty)\n",
      "(/nix/store/3zchnz1k9cyanrqvas3m31aic9y9wbw3-texlive-combined-full-2021-final/s\n",
      "hare/texmf/tex/latex/graphics-cfg/graphics.cfg)\n",
      "(/nix/store/3zchnz1k9cyanrqvas3m31aic9y9wbw3-texlive-combined-full-2021-final/s\n",
      "hare/texmf/tex/latex/graphics-def/pdftex.def)))\n",
      "(/nix/store/3zchnz1k9cyanrqvas3m31aic9y9wbw3-texlive-combined-full-2021-final/s\n",
      "hare/texmf/tex/latex/amsmath/amsmath.sty\n",
      "For additional information on amsmath, use the `?' option.\n",
      "\n",
      "(/nix/store/3zchnz1k9cyanrqvas3m31aic9y9wbw3-texlive-combined-full-2021-final/s\n",
      "hare/texmf/tex/latex/amsmath/amstext.sty\n",
      "(/nix/store/3zchnz1k9cyanrqvas3m31aic9y9wbw3-texlive-combined-full-2021-final/s\n",
      "hare/texmf/tex/latex/amsmath/amsgen.sty))\n",
      "(/nix/store/3zchnz1k9cyanrqvas3m31aic9y9wbw3-texlive-combined-full-2021-final/s\n",
      "hare/texmf/tex/latex/amsmath/amsbsy.sty)\n",
      "(/nix/store/3zchnz1k9cyanrqvas3m31aic9y9wbw3-texlive-combined-full-2021-final/s\n",
      "hare/texmf/tex/latex/amsmath/amsopn.sty))\n",
      "(/nix/store/3zchnz1k9cyanrqvas3m31aic9y9wbw3-texlive-combined-full-2021-final/s\n",
      "hare/texmf/tex/latex/xcolor/xcolor.sty\n",
      "(/nix/store/3zchnz1k9cyanrqvas3m31aic9y9wbw3-texlive-combined-full-2021-final/s\n",
      "hare/texmf/tex/latex/graphics-cfg/color.cfg))\n",
      "(/nix/store/3zchnz1k9cyanrqvas3m31aic9y9wbw3-texlive-combined-full-2021-final/s\n",
      "hare/texmf/tex/latex/geometry/geometry.sty\n",
      "(/nix/store/3zchnz1k9cyanrqvas3m31aic9y9wbw3-texlive-combined-full-2021-final/s\n",
      "hare/texmf/tex/generic/iftex/ifvtex.sty\n",
      "(/nix/store/3zchnz1k9cyanrqvas3m31aic9y9wbw3-texlive-combined-full-2021-final/s\n",
      "hare/texmf/tex/generic/iftex/iftex.sty)))\n",
      "(/nix/store/3zchnz1k9cyanrqvas3m31aic9y9wbw3-texlive-combined-full-2021-final/s\n",
      "hare/texmf/tex/latex/l3backend/l3backend-pdftex.def) (./main.aux)\n",
      "(/nix/store/3zchnz1k9cyanrqvas3m31aic9y9wbw3-texlive-combined-full-2021-final/s\n",
      "hare/texmf/tex/context/base/mkii/supp-pdf.mkii\n",
      "[Loading MPS to PDF converter (version 2006.09.02).]\n",
      ")\n",
      "(/nix/store/3zchnz1k9cyanrqvas3m31aic9y9wbw3-texlive-combined-full-2021-final/s\n",
      "hare/texmf/tex/latex/epstopdf-pkg/epstopdf-base.sty\n",
      "(/nix/store/3zchnz1k9cyanrqvas3m31aic9y9wbw3-texlive-combined-full-2021-final/s\n",
      "hare/texmf/tex/latex/latexconfig/epstopdf-sys.cfg))\n",
      "*geometry* driver: auto-detecting\n",
      "*geometry* detected driver: pdftex\n",
      "[1{/nix/store/3zchnz1k9cyanrqvas3m31aic9y9wbw3-texlive-combined-full-2021-final\n",
      "/share/texmf-var/fonts/map/pdftex/updmap/pdftex.map} <./MWE001.jpg>] [2]\n",
      "This exam contains 4 questions with 0 parts, 0 subparts, and 0 subsubparts.\n",
      "This exam has a total of 112 points.\n",
      "This exam has a total of 0 bonus points.\n",
      "\n",
      "Class exam Warning: Point totals have changed. Rerun to get point totals right.\n",
      "\n",
      "\n",
      "(./main.aux)\n",
      "\n",
      "LaTeX Warning: Label(s) may have changed. Rerun to get cross-references right.\n",
      "\n",
      " )</nix/store/3zchnz1k9cyanrqvas3m31aic9y9wbw3-texlive-combined-full-2021-final\n",
      "/share/texmf/fonts/type1/public/amsfonts/cm/cmbx12.pfb></nix/store/3zchnz1k9cya\n",
      "nrqvas3m31aic9y9wbw3-texlive-combined-full-2021-final/share/texmf/fonts/type1/p\n",
      "ublic/amsfonts/cm/cmr12.pfb>\n",
      "Output written on main.pdf (2 pages, 49770 bytes).\n",
      "Transcript written on main.log.\n"
     ]
    }
   ],
   "source": [
    "exame.make_exam()"
   ]
  },
  {
   "cell_type": "code",
   "execution_count": 8,
   "metadata": {},
   "outputs": [
    {
     "name": "stdout",
     "output_type": "stream",
     "text": [
      "This is pdfTeX, Version 3.141592653-2.6-1.40.22 (TeX Live 2021/NixOS.org) (preloaded format=pdflatex)\n",
      " restricted \\write18 enabled.\n",
      "entering extended mode\n",
      "(./main_result.tex\n",
      "LaTeX2e <2021-11-15> patch level 1\n",
      "L3 programming layer <2022-02-24>\n",
      "(/nix/store/3zchnz1k9cyanrqvas3m31aic9y9wbw3-texlive-combined-full-2021-final/s\n",
      "hare/texmf/tex/latex/exam/exam.cls\n",
      "Document Class: exam 2021/02/26 Version 2.7 by Philip Hirschhorn\n",
      "\n",
      "(/nix/store/3zchnz1k9cyanrqvas3m31aic9y9wbw3-texlive-combined-full-2021-final/s\n",
      "hare/texmf/tex/latex/base/ifthen.sty)\n",
      "(/nix/store/3zchnz1k9cyanrqvas3m31aic9y9wbw3-texlive-combined-full-2021-final/s\n",
      "hare/texmf/tex/latex/base/article.cls\n",
      "Document Class: article 2021/10/04 v1.4n Standard LaTeX document class\n",
      "\n",
      "(/nix/store/3zchnz1k9cyanrqvas3m31aic9y9wbw3-texlive-combined-full-2021-final/s\n",
      "hare/texmf/tex/latex/base/size12.clo)))\n",
      "(/nix/store/3zchnz1k9cyanrqvas3m31aic9y9wbw3-texlive-combined-full-2021-final/s\n",
      "hare/texmf/tex/latex/base/inputenc.sty)\n",
      "(/nix/store/3zchnz1k9cyanrqvas3m31aic9y9wbw3-texlive-combined-full-2021-final/s\n",
      "hare/texmf/tex/generic/babel/babel.sty\n",
      "(/nix/store/3zchnz1k9cyanrqvas3m31aic9y9wbw3-texlive-combined-full-2021-final/s\n",
      "hare/texmf/tex/generic/babel/txtbabel.def)\n",
      "(/nix/store/3zchnz1k9cyanrqvas3m31aic9y9wbw3-texlive-combined-full-2021-final/s\n",
      "hare/texmf/tex/generic/babel-portuges/portuguese.ldf))\n",
      "(/nix/store/3zchnz1k9cyanrqvas3m31aic9y9wbw3-texlive-combined-full-2021-final/s\n",
      "hare/texmf/tex/latex/tools/multicol.sty)\n",
      "(/nix/store/3zchnz1k9cyanrqvas3m31aic9y9wbw3-texlive-combined-full-2021-final/s\n",
      "hare/texmf/tex/latex/graphics/graphicx.sty\n",
      "(/nix/store/3zchnz1k9cyanrqvas3m31aic9y9wbw3-texlive-combined-full-2021-final/s\n",
      "hare/texmf/tex/latex/graphics/keyval.sty)\n",
      "(/nix/store/3zchnz1k9cyanrqvas3m31aic9y9wbw3-texlive-combined-full-2021-final/s\n",
      "hare/texmf/tex/latex/graphics/graphics.sty\n",
      "(/nix/store/3zchnz1k9cyanrqvas3m31aic9y9wbw3-texlive-combined-full-2021-final/s\n",
      "hare/texmf/tex/latex/graphics/trig.sty)\n",
      "(/nix/store/3zchnz1k9cyanrqvas3m31aic9y9wbw3-texlive-combined-full-2021-final/s\n",
      "hare/texmf/tex/latex/graphics-cfg/graphics.cfg)\n",
      "(/nix/store/3zchnz1k9cyanrqvas3m31aic9y9wbw3-texlive-combined-full-2021-final/s\n",
      "hare/texmf/tex/latex/graphics-def/pdftex.def)))\n",
      "(/nix/store/3zchnz1k9cyanrqvas3m31aic9y9wbw3-texlive-combined-full-2021-final/s\n",
      "hare/texmf/tex/latex/amsmath/amsmath.sty\n",
      "For additional information on amsmath, use the `?' option.\n",
      "\n",
      "(/nix/store/3zchnz1k9cyanrqvas3m31aic9y9wbw3-texlive-combined-full-2021-final/s\n",
      "hare/texmf/tex/latex/amsmath/amstext.sty\n",
      "(/nix/store/3zchnz1k9cyanrqvas3m31aic9y9wbw3-texlive-combined-full-2021-final/s\n",
      "hare/texmf/tex/latex/amsmath/amsgen.sty))\n",
      "(/nix/store/3zchnz1k9cyanrqvas3m31aic9y9wbw3-texlive-combined-full-2021-final/s\n",
      "hare/texmf/tex/latex/amsmath/amsbsy.sty)\n",
      "(/nix/store/3zchnz1k9cyanrqvas3m31aic9y9wbw3-texlive-combined-full-2021-final/s\n",
      "hare/texmf/tex/latex/amsmath/amsopn.sty))\n",
      "(/nix/store/3zchnz1k9cyanrqvas3m31aic9y9wbw3-texlive-combined-full-2021-final/s\n",
      "hare/texmf/tex/latex/xcolor/xcolor.sty\n",
      "(/nix/store/3zchnz1k9cyanrqvas3m31aic9y9wbw3-texlive-combined-full-2021-final/s\n",
      "hare/texmf/tex/latex/graphics-cfg/color.cfg))\n",
      "(/nix/store/3zchnz1k9cyanrqvas3m31aic9y9wbw3-texlive-combined-full-2021-final/s\n",
      "hare/texmf/tex/latex/geometry/geometry.sty\n",
      "(/nix/store/3zchnz1k9cyanrqvas3m31aic9y9wbw3-texlive-combined-full-2021-final/s\n",
      "hare/texmf/tex/generic/iftex/ifvtex.sty\n",
      "(/nix/store/3zchnz1k9cyanrqvas3m31aic9y9wbw3-texlive-combined-full-2021-final/s\n",
      "hare/texmf/tex/generic/iftex/iftex.sty)))\n",
      "(/nix/store/3zchnz1k9cyanrqvas3m31aic9y9wbw3-texlive-combined-full-2021-final/s\n",
      "hare/texmf/tex/latex/l3backend/l3backend-pdftex.def)\n",
      "No file main_result.aux.\n",
      "\n",
      "(/nix/store/3zchnz1k9cyanrqvas3m31aic9y9wbw3-texlive-combined-full-2021-final/s\n",
      "hare/texmf/tex/context/base/mkii/supp-pdf.mkii\n",
      "[Loading MPS to PDF converter (version 2006.09.02).]\n",
      ")\n",
      "(/nix/store/3zchnz1k9cyanrqvas3m31aic9y9wbw3-texlive-combined-full-2021-final/s\n",
      "hare/texmf/tex/latex/epstopdf-pkg/epstopdf-base.sty\n",
      "(/nix/store/3zchnz1k9cyanrqvas3m31aic9y9wbw3-texlive-combined-full-2021-final/s\n",
      "hare/texmf/tex/latex/latexconfig/epstopdf-sys.cfg))\n",
      "*geometry* driver: auto-detecting\n",
      "*geometry* detected driver: pdftex\n",
      "[1{/nix/store/3zchnz1k9cyanrqvas3m31aic9y9wbw3-texlive-combined-full-2021-final\n",
      "/share/texmf-var/fonts/map/pdftex/updmap/pdftex.map} <./MWE001.jpg>] [2]\n",
      "This exam contains 4 questions with 0 parts, 0 subparts, and 0 subsubparts.\n",
      "This exam has a total of 112 points.\n",
      "This exam has a total of 0 bonus points.\n",
      "\n",
      "Class exam Warning: Point totals have changed. Rerun to get point totals right.\n",
      "\n",
      "\n",
      "(./main_result.aux)\n",
      "\n",
      "LaTeX Warning: Label(s) may have changed. Rerun to get cross-references right.\n",
      "\n",
      " )</nix/store/3zchnz1k9cyanrqvas3m31aic9y9wbw3-texlive-combined-full-2021-final\n",
      "/share/texmf/fonts/type1/public/amsfonts/cm/cmbx12.pfb></nix/store/3zchnz1k9cya\n",
      "nrqvas3m31aic9y9wbw3-texlive-combined-full-2021-final/share/texmf/fonts/type1/p\n",
      "ublic/amsfonts/cm/cmr12.pfb>\n",
      "Output written on main_result.pdf (2 pages, 50033 bytes).\n",
      "Transcript written on main_result.log.\n"
     ]
    }
   ],
   "source": [
    "exame.make_result()"
   ]
  }
 ],
 "metadata": {
  "kernelspec": {
   "display_name": "Python 3.10.4 64-bit",
   "language": "python",
   "name": "python3"
  },
  "language_info": {
   "codemirror_mode": {
    "name": "ipython",
    "version": 3
   },
   "file_extension": ".py",
   "mimetype": "text/x-python",
   "name": "python",
   "nbconvert_exporter": "python",
   "pygments_lexer": "ipython3",
   "version": "3.10.4"
  },
  "orig_nbformat": 4,
  "vscode": {
   "interpreter": {
    "hash": "7808a3bb7ad42e5121cf53d9262afa4602c7ae7066cc0eaba1d0793744cb24e8"
   }
  }
 },
 "nbformat": 4,
 "nbformat_minor": 2
}
